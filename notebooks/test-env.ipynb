{
 "cells": [
  {
   "cell_type": "markdown",
   "id": "2ecb213d-f85e-4a31-97a9-b7103757962f",
   "metadata": {},
   "source": [
    "## Quick import and load files"
   ]
  },
  {
   "cell_type": "code",
   "execution_count": 1,
   "id": "dcdf0db7-82a8-42a5-929e-1918457db147",
   "metadata": {
    "tags": []
   },
   "outputs": [
    {
     "name": "stdout",
     "output_type": "stream",
     "text": [
      "/home/jas/detr_blob/jas/project/qstar/SWE-agent\n"
     ]
    }
   ],
   "source": [
    "# set path to the parent dir\n",
    "import os\n",
    "import sys\n",
    "sys.path.append('src')\n",
    "os.chdir(os.path.join(os.path.expanduser('~'),'project/qstar/SWE-agent'))\n",
    "\n",
    "!pwd\n"
   ]
  },
  {
   "cell_type": "code",
   "execution_count": 2,
   "id": "2b38ca59-ca07-46a4-bbf7-172e224c8ef6",
   "metadata": {
    "tags": []
   },
   "outputs": [],
   "source": [
    "from IPython.display import Markdown\n",
    "\n",
    "# Some more magic so that the notebook will reload external python modules;\n",
    "# see http://stackoverflow.com/questions/1907993/autoreload-of-modules-in-ipython\n",
    "%load_ext autoreload\n",
    "%autoreload 2\n"
   ]
  },
  {
   "cell_type": "markdown",
   "id": "33f90acb-d469-4f1f-b2f2-5d83bc1f3e0f",
   "metadata": {},
   "source": [
    "# 1.0 - Load the agent and the enviroment \n",
    "\n",
    "> similar to the run.py file in the main folder"
   ]
  },
  {
   "cell_type": "code",
   "execution_count": 3,
   "id": "5587038b-6efb-4177-9f22-63ec285f95de",
   "metadata": {
    "tags": []
   },
   "outputs": [
    {
     "name": "stderr",
     "output_type": "stream",
     "text": [
      "/home/jas/anaconda3/envs/swe-agent/lib/python3.9/site-packages/tqdm/auto.py:21: TqdmWarning: IProgress not found. Please update jupyter and ipywidgets. See https://ipywidgets.readthedocs.io/en/stable/user_install.html\n",
      "  from .autonotebook import tqdm as notebook_tqdm\n"
     ]
    }
   ],
   "source": [
    "import json\n",
    "import logging\n",
    "import os\n",
    "import re\n",
    "import traceback\n",
    "import yaml\n",
    "\n",
    "from dataclasses import dataclass\n",
    "from getpass import getuser\n",
    "from pathlib import Path\n",
    "from rich.logging import RichHandler\n",
    "from simple_parsing import parse\n",
    "from simple_parsing.helpers import Serializable, FrozenSerializable, FlattenedAccess\n",
    "from sweagent import (\n",
    "    Agent,\n",
    "    AgentArguments,\n",
    "    EnvironmentArguments,\n",
    "    ModelArguments,\n",
    "    SWEEnv,\n",
    "    get_data_path_name,\n",
    ")\n",
    "from swebench import KEY_INSTANCE_ID, KEY_MODEL, KEY_PREDICTION\n",
    "from unidiff import PatchSet\n",
    "\n",
    "handler = RichHandler(show_time=False, show_path=False)\n",
    "handler.setLevel(logging.DEBUG)\n",
    "logger = logging.getLogger(\"run_dev\")\n",
    "logger.setLevel(logging.DEBUG)\n",
    "logger.addHandler(handler)\n",
    "logger.propagate = False\n",
    "logging.getLogger(\"simple_parsing\").setLevel(logging.WARNING)\n",
    "\n",
    "\n",
    "@dataclass(frozen=False)\n",
    "class ScriptArguments(FlattenedAccess, Serializable):#FrozenSerializable):\n",
    "    environment: EnvironmentArguments\n",
    "    agent: AgentArguments\n",
    "    instance_filter: str = \".*\"  # Only run instances that completely match this regex\n",
    "    skip_existing: bool = True  # Skip instances with existing trajectories\n",
    "    suffix: str = \"\"\n",
    "\n",
    "    @property\n",
    "    def run_name(self):\n",
    "        \"\"\"Generate a unique name for this run based on the arguments.\"\"\"\n",
    "        model_name = args.agent.model.model_name.replace(\":\", \"-\")\n",
    "        data_stem = get_data_path_name(args.environment.data_path)\n",
    "        config_stem = Path(args.agent.config_file).stem\n",
    "\n",
    "        temp = args.agent.model.temperature\n",
    "        top_p = args.agent.model.top_p\n",
    "\n",
    "        per_instance_cost_limit = args.agent.model.per_instance_cost_limit\n",
    "        install_env = args.environment.install_environment\n",
    "\n",
    "        return (\n",
    "            f\"{model_name}__{data_stem}__{config_stem}__t-{temp:.2f}__p-{top_p:.2f}\"\n",
    "            + f\"__c-{per_instance_cost_limit:.2f}__install-{int(install_env)}\"\n",
    "            + (f\"__{self.suffix}\" if self.suffix else \"\")\n",
    "        )\n",
    "\n",
    "\n",
    "def main(args: ScriptArguments):\n",
    "    logger.info(f\"📙 Arguments: {args.dumps_yaml()}\")\n",
    "    agent = Agent(\"primary\", args.agent)\n",
    "\n",
    "    env = SWEEnv(args.environment)\n",
    "\n",
    "    traj_dir = Path(\"trajectories\") / Path(getuser()) / args.run_name\n",
    "    os.makedirs(traj_dir, exist_ok=True)\n",
    "\n",
    "    save_arguments(traj_dir, args)\n",
    "\n",
    "    for index in range(len(env.data)):\n",
    "        try:\n",
    "            # Reset environment\n",
    "            instance_id = env.data[index][\"instance_id\"]\n",
    "            if should_skip(args, traj_dir, instance_id):\n",
    "                continue\n",
    "            logger.info(\"▶️  Beginning task \" + str(index))\n",
    "\n",
    "            observation, info = env.reset(index)\n",
    "            if info is None:\n",
    "                continue\n",
    "\n",
    "            # Get info, patch information\n",
    "            issue = getattr(env, \"query\", None)\n",
    "            files = []\n",
    "            if \"patch\" in env.record:\n",
    "                files = \"\\n\".join(\n",
    "                    [f\"- {x.path}\" for x in PatchSet(env.record[\"patch\"]).modified_files]\n",
    "                )\n",
    "            # Get test files, F2P tests information\n",
    "            test_files = []\n",
    "            if \"test_patch\" in env.record:\n",
    "                test_patch_obj = PatchSet(env.record[\"test_patch\"])\n",
    "                test_files = \"\\n\".join(\n",
    "                    [f\"- {x.path}\" for x in test_patch_obj.modified_files + test_patch_obj.added_files]\n",
    "                )\n",
    "            tests = \"\"\n",
    "            if \"FAIL_TO_PASS\" in env.record:\n",
    "                tests = \"\\n\".join([f\"- {x}\" for x in env.record[\"FAIL_TO_PASS\"]])\n",
    "\n",
    "            setup_args = {\n",
    "                \"issue\": issue,\n",
    "                \"files\": files,\n",
    "                \"test_files\": test_files,\n",
    "                \"tests\": tests\n",
    "            }\n",
    "            info = agent.run(\n",
    "                setup_args=setup_args,\n",
    "                env=env,\n",
    "                observation=observation,\n",
    "                traj_dir=traj_dir,\n",
    "                return_type=\"info\",\n",
    "            )\n",
    "            save_predictions(traj_dir, instance_id, info)\n",
    "\n",
    "        except KeyboardInterrupt:\n",
    "            logger.info(\"Exiting InterCode environment...\")\n",
    "            env.close()\n",
    "            break\n",
    "        except Exception as e:\n",
    "            traceback.print_exc()\n",
    "            logger.warning(f\"❌ Failed on {env.record['instance_id']}: {e}\")\n",
    "            env.reset_container()\n",
    "            continue\n",
    "\n",
    "\n",
    "def save_arguments(traj_dir, args):\n",
    "    \"\"\"Save the arguments to a yaml file to the run's trajectory directory.\"\"\"\n",
    "    log_path = traj_dir / \"args.yaml\"\n",
    "\n",
    "    if log_path.exists():\n",
    "        try:\n",
    "            other_args = args.load_yaml(log_path)\n",
    "            if (args.dumps_yaml() != other_args.dumps_yaml()):  # check yaml equality instead of object equality\n",
    "                logger.warning(\"**************************************************\")\n",
    "                logger.warning(\"Found existing args.yaml with different arguments!\")\n",
    "                logger.warning(\"**************************************************\")\n",
    "        except Exception as e:\n",
    "            logger.warning(f\"Failed to load existing args.yaml: {e}\")\n",
    "\n",
    "    with log_path.open(\"w\") as f:\n",
    "        args.dump_yaml(f)\n",
    "\n",
    "\n",
    "def should_skip(args, traj_dir, instance_id):\n",
    "    \"\"\"Check if we should skip this instance based on the instance filter and skip_existing flag.\"\"\"\n",
    "    # Skip instances that don't match the instance filter\n",
    "    if re.match(args.instance_filter, instance_id) is None:\n",
    "        logger.info(f\"Instance filter not matched. Skipping instance {instance_id}\")\n",
    "        return True\n",
    "\n",
    "    # If flag is set to False, don't skip\n",
    "    if not args.skip_existing:\n",
    "        return False\n",
    "\n",
    "    # Check if there's an existing trajectory for this instance\n",
    "    log_path = traj_dir / (instance_id + \".traj\")\n",
    "    if log_path.exists():\n",
    "        with log_path.open(\"r\") as f:\n",
    "            data = json.load(f)\n",
    "        # If the trajectory has no exit status, it's incomplete and we will redo it\n",
    "        exit_status = data[\"info\"].get(\"exit_status\", None)\n",
    "        if exit_status == \"early_exit\" or exit_status is None:\n",
    "            logger.info(f\"Found existing trajectory with no exit status: {log_path}\")\n",
    "            logger.info(\"Removing incomplete trajectory...\")\n",
    "            os.remove(log_path)\n",
    "        else:\n",
    "            logger.info(f\"⏭️ Skipping existing trajectory: {log_path}\")\n",
    "            return True\n",
    "    return False\n",
    "\n",
    "\n",
    "def save_predictions(traj_dir, instance_id, info):\n",
    "    output_file = Path(traj_dir) / \"all_preds.jsonl\"\n",
    "    model_patch = info[\"submission\"] if \"submission\" in info else None\n",
    "    datum = {\n",
    "        KEY_MODEL: Path(traj_dir).name,\n",
    "        KEY_INSTANCE_ID: instance_id,\n",
    "        KEY_PREDICTION: model_patch,\n",
    "    }\n",
    "    with open(output_file, \"a+\") as fp:\n",
    "        print(json.dumps(datum), file=fp, flush=True)\n",
    "    logger.info(f\"Saved predictions to {output_file}\")    \n"
   ]
  },
  {
   "cell_type": "code",
   "execution_count": 4,
   "id": "9e11c05e-9528-44bb-874b-6c66994b65ea",
   "metadata": {
    "tags": []
   },
   "outputs": [],
   "source": [
    "defaults = ScriptArguments(\n",
    "        suffix=\"\",\n",
    "        environment=EnvironmentArguments(\n",
    "            image_name=\"swe-agent\",\n",
    "            data_path=\"princeton-nlp/SWE-bench_Lite\",\n",
    "            split=\"dev\",\n",
    "            verbose=True,\n",
    "            install_environment=True,\n",
    "        ),\n",
    "        skip_existing=True,\n",
    "        agent=AgentArguments(\n",
    "            model=ModelArguments(\n",
    "                model_name=\"gpt4\",\n",
    "                total_cost_limit=0.0,\n",
    "                per_instance_cost_limit=2.0,\n",
    "                temperature=0.2,\n",
    "                top_p=0.95,\n",
    "            ),\n",
    "            config_file=\"config/default.yaml\",\n",
    "        ),\n",
    "    )\n"
   ]
  },
  {
   "cell_type": "code",
   "execution_count": 5,
   "id": "b1bd1fb1-b04e-499b-9771-493e930c4764",
   "metadata": {
    "tags": []
   },
   "outputs": [],
   "source": [
    "# Nicer yaml dumping of multiline strings\n",
    "def multiline_representer(dumper, data):\n",
    "    \"\"\"configures yaml for dumping multiline strings\n",
    "    Ref: https://stackoverflow.com/questions/8640959/how-can-i-control-what-scalar-form-pyyaml-uses-for-my-data\n",
    "    \"\"\"\n",
    "    if data.count(\"\\n\") > 0:  # check for multiline string\n",
    "        return dumper.represent_scalar(\"tag:yaml.org,2002:str\", data, style=\"|\")\n",
    "    return dumper.represent_scalar(\"tag:yaml.org,2002:str\", data)\n",
    "\n",
    "yaml.add_representer(str, multiline_representer)\n"
   ]
  },
  {
   "cell_type": "code",
   "execution_count": 6,
   "id": "598a393b-cd99-4ab7-b992-690f1b2ecf81",
   "metadata": {
    "tags": []
   },
   "outputs": [],
   "source": [
    "from simple_parsing import parse_known_args\n"
   ]
  },
  {
   "cell_type": "code",
   "execution_count": 7,
   "id": "c5683b70-620b-436c-bf19-6f01f9c0d501",
   "metadata": {
    "scrolled": true,
    "tags": []
   },
   "outputs": [
    {
     "data": {
      "text/plain": [
       "ScriptArguments(environment=EnvironmentArguments(data_path='princeton-nlp/SWE-bench_Lite', image_name='swe-agent', split='dev', base_commit=None, container_name=None, install_environment=True, timeout=35, verbose=True, no_mirror=False, environment_setup=None), agent=AgentArguments(model=ModelArguments(model_name='gpt4', per_instance_cost_limit=2.0, total_cost_limit=0.0, temperature=0.2, top_p=0.95, replay_path=None, host_url='localhost:11434'), config_file='config/default.yaml', config=AgentConfig(system_template=\"SETTING: You are an autonomous programmer, and you're working directly in the command line with a special interface.\\n\\nThe special interface consists of a file editor that shows you {WINDOW} lines of a file at a time.\\nIn addition to typical bash commands, you can also use the following commands to help you navigate and edit files.\\n\\nCOMMANDS:\\n{command_docs}\\n\\nPlease note that THE EDIT COMMAND REQUIRES PROPER INDENTATION. \\nIf you'd like to add the line '        print(x)' you must fully write that out, with all those spaces before the code! Indentation is important and code that is not indented correctly will fail and require fixing before it can be run.\\n\\nRESPONSE FORMAT:\\nYour shell prompt is formatted as follows:\\n(Open file: <path>) <cwd> $\\n\\nYou need to format your output using two fields; discussion and command.\\nYour output should always include _one_ discussion and _one_ command field EXACTLY as in the following example:\\nDISCUSSION\\nFirst I'll start by using ls to see what files are in the current directory. Then maybe we can look at some relevant files to see what they look like.\\n```\\nls -a\\n```\\n\\nYou should only include a *SINGLE* command in the command section and then wait for a response from the shell before continuing with more discussion and commands. Everything you include in the DISCUSSION section will be saved for future reference.\\nIf you'd like to issue two commands at once, PLEASE DO NOT DO THAT! Please instead first submit just the first command, and then after receiving a response you'll be able to issue the second command. \\nYou're free to use any other bash commands you want (e.g. find, grep, cat, ls, cd) in addition to the special commands listed above.\\nHowever, the environment does NOT support interactive session commands (e.g. python, vim), so please do not invoke them.\", instance_template='We\\'re currently solving the following issue within our repository. Here\\'s the issue text:\\nISSUE:\\n{issue}\\n\\nINSTRUCTIONS:\\nNow, you\\'re going to solve this issue on your own. Your terminal session has started and you\\'re in the repository\\'s root directory. You can use any bash commands or the special interface to help you. Edit all the files you need to and run any checks or tests that you want. \\nRemember, YOU CAN ONLY ENTER ONE COMMAND AT A TIME. You should always wait for feedback after every command. \\nWhen you\\'re satisfied with all of the changes you\\'ve made, you can submit your changes to the code base by simply running the submit command.\\nNote however that you cannot use any interactive session commands (e.g. python, vim) in this environment, but you can write scripts and run them. E.g. you can write a python script and then run it with `python <script_name>.py`.\\n\\nNOTE ABOUT THE EDIT COMMAND: Indentation really matters! When editing a file, make sure to insert appropriate indentation before each line! \\n\\nIMPORTANT TIPS:\\n1. Always start by trying to replicate the bug that the issues discusses. \\n   If the issue includes code for reproducing the bug, we recommend that you re-implement that in your environment, and run it to make sure you can reproduce the bug.\\n   Then start trying to fix it.\\n   When you think you\\'ve fixed the bug, re-run the bug reproduction script to make sure that the bug has indeed been fixed.\\n   \\n   If the bug reproduction script does not print anything when it succesfully runs, we recommend adding a print(\"Script completed successfully, no errors.\") command at the end of the file,\\n   so that you can be sure that the script indeed ran fine all the way through. \\n\\n2. If you run a command and it doesn\\'t work, try running a different command. A command that did not work once will not work the second time unless you modify it!\\n\\n3. If you open a file and need to get to an area around a specific line that is not in the first 100 lines, say line 583, don\\'t just use the scroll_down command multiple times. Instead, use the goto 583 command. It\\'s much quicker. \\n   \\n4. If the bug reproduction script requires inputting/reading a specific file, such as buggy-input.png, and you\\'d like to understand how to input that file, conduct a search in the existing repo code, to see whether someone else has already done that. Do this by running the command: find_file \"buggy-input.png\" If that doensn\\'t work, use the linux \\'find\\' command. \\n\\n5. Always make sure to look at the currently open file and the current working directory (which appears right after the currently open file). The currently open file might be in a different directory than the working directory! Note that some commands, such as \\'create\\', open files, so they might change the current  open file.\\n\\n6. When editing files, it is easy to accidentally specify a wrong line number or to write code with incorrect indentation. Always check the code after you issue an edit to make sure that it reflects what you wanted to accomplish. If it didn\\'t, issue another command to fix it.\\n   \\n\\n(Open file: {open_file})\\n(Current directory: {working_dir})\\nbash-$', next_step_template='{observation}\\n(Open file: {open_file})\\n(Current directory: {working_dir})\\nbash-$', next_step_no_output_template='Your command ran successfully and did not produce any output.\\n(Open file: {open_file})\\n(Current directory: {working_dir})\\nbash-$', strategy_template=None, demonstration_template='Here is a demonstration of how to correctly accomplish this task.\\nIt is included to show you how to correctly use the interface.\\nYou do not need to follow exactly what is done in the demonstration.\\n--- DEMONSTRATION ---\\n{demonstration}\\n--- END OF DEMONSTRATION ---\\n', demonstrations=['trajectories/demonstrations/replay__marshmallow-code__marshmallow-1867__default_sys-env_window100__t-0.20__p-0.95__c-2.00__install-1/marshmallow-code__marshmallow-1867.traj'], put_demos_in_history=False, format_error_template=\"Your output was not formatted correctly. You must always include one discussion and one command as part of your response. Make sure you do not have multiple discussion/command tags.\\nPlease make sure your output precisely matches the following format:\\nDISCUSSION\\nDiscuss here with yourself about what your planning and what you're going to do in this step.\\n\\n```\\ncommand(s) that you're going to run\\n```\\n\", command_files=['config/commands/defaults.sh', 'config/commands/search.sh', 'config/commands/edit_linting.sh', 'config/commands/_split_string.py'], env_variables={'WINDOW': '100', 'OVERLAP': '2', 'CURRENT_LINE': '0', 'CURRENT_FILE': '', 'SEARCH_RESULTS': '()', 'SEARCH_FILES': '()', 'SEARCH_INDEX': '0'}, util_functions=[Command(code='_print() {    local total_lines=$(awk \\'END {print NR}\\' $CURRENT_FILE)    echo \"[File: $(realpath $CURRENT_FILE) ($total_lines lines total)]\"    lines_above=$(jq -n \"$CURRENT_LINE - $WINDOW/2\" | jq \\'[0, .] | max | floor\\')    lines_below=$(jq -n \"$total_lines - $CURRENT_LINE - $WINDOW/2\" | jq \\'[0, .] | max | round\\')    if [ $lines_above -gt 0 ]; then        echo \"($lines_above more lines above)\"    fi    cat $CURRENT_FILE | grep -n $ | head -n $(jq -n \"[$CURRENT_LINE + $WINDOW/2, $WINDOW/2] | max | floor\") | tail -n $(jq -n \"$WINDOW\")    if [ $lines_below -gt 0 ]; then        echo \"($lines_below more lines below)\"    fi}', name='_print', docstring=None, end_name=None, arguments=None, signature='_print'), Command(code='_constrain_line() {    if [ -z \"$CURRENT_FILE\" ]    then        echo \"No file open. Use the open command first.\"        return    fi    local max_line=$(awk \\'END {print NR}\\' $CURRENT_FILE)    local half_window=$(jq -n \"$WINDOW/2\" | jq \\'floor\\')    export CURRENT_LINE=$(jq -n \"[$CURRENT_LINE, $max_line - $half_window] | min\")    export CURRENT_LINE=$(jq -n \"[$CURRENT_LINE, $half_window] | max\")}', name='_constrain_line', docstring=None, end_name=None, arguments=None, signature='_constrain_line')], submit_command='submit', parse_function=ThoughtActionParser(), parse_command=ParseCommandDetailed(), history_processor=DefaultHistoryProcessor(), history_processor_args={}, command_docs='open:\\n  docstring: opens the file at the given path in the editor. If line_number is provided, the window will be move to include that line\\n  signature: open <path> [<line_number>]\\n  arguments:\\n    - path (string) [required]: the path to the file to open\\n    - line_number (integer) [optional]: the line number to move the window to (if not provided, the window will start at the top of the file)\\n\\ngoto:\\n  docstring: moves the window to show <line_number>\\n  signature: goto <line_number>\\n  arguments:\\n    - line_number (integer) [required]: the line number to move the window to\\n\\nscroll_down:\\n  docstring: moves the window down {WINDOW} lines\\n  signature: scroll_down\\n\\nscroll_up:\\n  docstring: moves the window down {WINDOW} lines\\n  signature: scroll_down\\n\\ncreate:\\n  docstring: creates and opens a new file with the given name\\n  signature: create <filename>\\n  arguments:\\n    - filename (string) [required]: the name of the file to create\\n\\nsubmit:\\n  docstring: submits your current code and terminates the session\\n  signature: submit\\n\\nsearch_dir:\\n  docstring: searches for search_term in all files in dir. If dir is not provided, searches in the current directory\\n  signature: search_dir <search_term> [<dir>]\\n  arguments:\\n    - search_term (string) [required]: the term to search for\\n    - dir (string) [optional]: the directory to search in (if not provided, searches in the current directory)\\n\\nsearch_file:\\n  docstring: searches for search_term in file. If file is not provided, searches in the current open file\\n  signature: search_file <search_term> [<file>]\\n  arguments:\\n    - search_term (string) [required]: the term to search for\\n    - file (string) [optional]: the file to search in (if not provided, searches in the current open file)\\n\\nfind_file:\\n  docstring: finds all files with the given name in dir. If dir is not provided, searches in the current directory\\n  signature: find_file <file_name> [<dir>]\\n  arguments:\\n    - file_name (string) [required]: the name of the file to search for\\n    - dir (string) [optional]: the directory to search in (if not provided, searches in the current directory)\\n\\nedit:\\n  docstring: replaces lines <start_line> through <end_line> (inclusive) with the given text in the open file. The replacement text is terminated by a line with only end_of_edit on it. All of the <replacement text> will be entered, so make sure your indentation is formatted properly. Python files will be checked for syntax errors after the edit. If the system detects a syntax error, the edit will not be executed. Simply try to edit the file again, but make sure to read the error message and modify the edit command you issue accordingly. Issuing the same command a second time will just lead to the same error message again.\\n  signature: edit <start_line>:<end_line>\\n<replacement_text>\\nend_of_edit\\n  arguments:\\n    - start_line (integer) [required]: the line number to start the edit at\\n    - end_line (integer) [required]: the line number to end the edit at (inclusive)\\n    - replacement_text (string) [required]: the text to replace the current selection with\\n\\n', blocklist_error_template=\"Interactive operation '{name}' is not supported by this environment\", blocklist=('vim', 'vi', 'emacs', 'nano', 'nohup', 'git'), blocklist_standalone=('python', 'python3', 'ipython', 'bash', 'sh', 'exit', '/bin/bash', '/bin/sh', 'nohup', 'vi', 'vim', 'emacs', 'nano'), state_command=Command(code='state() {\\n  local working_dir=\"$PWD\";\\n  if [ -z $CURRENT_FILE ]; then\\n      echo \\'{\"open_file\": \"n/a\", \"working_dir\": \"\\'$working_dir\\'\"}\\';\\n  else\\n      echo \\'{\"open_file\": \"\\'$(realpath $CURRENT_FILE)\\'\", \"working_dir\": \"\\'$working_dir\\'\"}\\';\\n  fi\\n};\\n', name='state', docstring=None, end_name=None, arguments=None, signature=None), _commands=[Command(code='open() {    if [ -z \"$1\" ]    then        echo \"Usage: open <file>\"        return    fi    # Check if the second argument is provided    if [ -n \"$2\" ]; then        # Check if the provided argument is a valid number        if ! [[ $2 =~ ^[0-9]+$ ]]; then            echo \"Usage: open <file> [<line_number>]\"            echo \"Error: <line_number> must be a number\"            return  # Exit if the line number is not valid        fi        local max_line=$(awk \\'END {print NR}\\' $1)        if [ $2 -gt $max_line ]; then            echo \"Warning: <line_number> ($2) is greater than the number of lines in the file ($max_line)\"            echo \"Warning: Setting <line_number> to $max_line\"            local line_number=$(jq -n \"$max_line\")  # Set line number to max if greater than max        elif [ $2 -lt 1 ]; then            echo \"Warning: <line_number> ($2) is less than 1\"            echo \"Warning: Setting <line_number> to 1\"            local line_number=$(jq -n \"1\")  # Set line number to 1 if less than 1        else            local OFFSET=$(jq -n \"$WINDOW/6\" | jq \\'floor\\')            local line_number=$(jq -n \"[$2 + $WINDOW/2 - $OFFSET, 1] | max | floor\")        fi    else        local line_number=$(jq -n \"$WINDOW/2\")  # Set default line number if not provided    fi    if [ -f \"$1\" ]; then        export CURRENT_FILE=$(realpath $1)        export CURRENT_LINE=$line_number        _constrain_line        _print    elif [ -d \"$1\" ]; then        echo \"Error: $1 is a directory. You can only open files. Use cd or ls to navigate directories.\"    else        echo \"File $1 not found\"    fi}', name='open', docstring='opens the file at the given path in the editor. If line_number is provided, the window will be move to include that line', end_name=None, arguments={'path': {'type': 'string', 'description': 'the path to the file to open', 'required': True}, 'line_number': {'type': 'integer', 'description': 'the line number to move the window to (if not provided, the window will start at the top of the file)', 'required': False}}, signature='open <path> [<line_number>]'), Command(code='goto() {    if [ $# -gt 1 ]; then        echo \"goto allows only one line number at a time.\"        return    fi    if [ -z \"$CURRENT_FILE\" ]    then        echo \"No file open. Use the open command first.\"        return    fi    if [ -z \"$1\" ]    then        echo \"Usage: goto <line>\"        return    fi    if ! [[ $1 =~ ^[0-9]+$ ]]    then        echo \"Usage: goto <line>\"        echo \"Error: <line> must be a number\"        return    fi    local max_line=$(awk \\'END {print NR}\\' $CURRENT_FILE)    if [ $1 -gt $max_line ]    then        echo \"Error: <line> must be less than or equal to $max_line\"        return    fi    local OFFSET=$(jq -n \"$WINDOW/6\" | jq \\'floor\\')    export CURRENT_LINE=$(jq -n \"[$1 + $WINDOW/2 - $OFFSET, 1] | max | floor\")    _constrain_line    _print}', name='goto', docstring='moves the window to show <line_number>', end_name=None, arguments={'line_number': {'type': 'integer', 'description': 'the line number to move the window to', 'required': True}}, signature='goto <line_number>'), Command(code='scroll_down() {    if [ -z \"$CURRENT_FILE\" ]    then        echo \"No file open. Use the open command first.\"        return    fi    export CURRENT_LINE=$(jq -n \"$CURRENT_LINE + $WINDOW - $OVERLAP\")    _constrain_line    _print}', name='scroll_down', docstring='moves the window down {WINDOW} lines', end_name=None, arguments=None, signature='scroll_down'), Command(code='scroll_up() {    if [ -z \"$CURRENT_FILE\" ]    then        echo \"No file open. Use the open command first.\"        return    fi    export CURRENT_LINE=$(jq -n \"$CURRENT_LINE - $WINDOW + $OVERLAP\")    _constrain_line    _print}', name='scroll_up', docstring='moves the window down {WINDOW} lines', end_name=None, arguments=None, signature='scroll_down'), Command(code='create() {    if [ -z \"$1\" ]; then        echo \"Usage: create <filename>\"        return    fi    # Check if the file already exists    if [ -e \"$1\" ]; then        echo \"Error: File \\'$1\\' already exists.\"\\t\\topen \"$1\"        return    fi    # Create the file an empty new line    printf \"\\\\n\" > \"$1\"    # Use the existing open command to open the created file    open \"$1\"}', name='create', docstring='creates and opens a new file with the given name', end_name=None, arguments={'filename': {'type': 'string', 'description': 'the name of the file to create', 'required': True}}, signature='create <filename>'), Command(code='submit() {    cd $ROOT    # Check if the patch file exists and is non-empty    if [ -s \"/root/test.patch\" ]; then        # Apply the patch in reverse        git apply -R < \"/root/test.patch\"    fi    git add -A    git diff --cached > model.patch    echo \"<<SUBMISSION||\"    cat model.patch    echo \"||SUBMISSION>>\"}', name='submit', docstring='submits your current code and terminates the session', end_name=None, arguments=None, signature='submit'), Command(code='search_dir() {    if [ $# -eq 1 ]; then        local search_term=\"$1\"        local dir=\"./\"    elif [ $# -eq 2 ]; then        local search_term=\"$1\"        if [ -d \"$2\" ]; then            local dir=\"$2\"        else            echo \"Directory $2 not found\"            return        fi    else        echo \"Usage: search_dir <search_term> [<dir>]\"        return    fi    dir=$(realpath \"$dir\")    local matches=$(find \"$dir\" -type f ! -path \\'*/.*\\' -exec grep -nIH -- \"$search_term\" {} + | cut -d: -f1 | sort | uniq -c)    # if no matches, return    if [ -z \"$matches\" ]; then        echo \"No matches found for \\\\\"$search_term\\\\\" in $dir\"        return    fi    # Calculate total number of matches    local num_matches=$(echo \"$matches\" | awk \\'{sum+=$1} END {print sum}\\')    # calculate total number of files matched    local num_files=$(echo \"$matches\" | wc -l | awk \\'{$1=$1; print $0}\\')    # if num_files is > 100, print an error    if [ $num_files -gt 100 ]; then        echo \"More than $num_files files matched for \\\\\"$search_term\\\\\" in $dir. Please narrow your search.\"        return    fi        echo \"Found $num_matches matches for \\\\\"$search_term\\\\\" in $dir:\"    echo \"$matches\" | awk \\'{$2=$2; gsub(/^\\\\.+\\\\/+/, \"./\", $2); print $2 \" (\"$1\" matches)\"}\\'    echo \"End of matches for \\\\\"$search_term\\\\\" in $dir\"}', name='search_dir', docstring='searches for search_term in all files in dir. If dir is not provided, searches in the current directory', end_name=None, arguments={'search_term': {'type': 'string', 'description': 'the term to search for', 'required': True}, 'dir': {'type': 'string', 'description': 'the directory to search in (if not provided, searches in the current directory)', 'required': False}}, signature='search_dir <search_term> [<dir>]'), Command(code='search_file() {    # Check if the first argument is provided    if [ -z \"$1\" ]; then        echo \"Usage: search_file <search_term> [<file>]\"        return    fi    # Check if the second argument is provided    if [ -n \"$2\" ]; then        # Check if the provided argument is a valid file        if [ -f \"$2\" ]; then            local file=\"$2\"  # Set file if valid        else            echo \"Usage: search_file <search_term> [<file>]\"            echo \"Error: File name $2 not found. Please provide a valid file name.\"            return  # Exit if the file is not valid        fi    else        # Check if a file is open        if [ -z \"$CURRENT_FILE\" ]; then            echo \"No file open. Use the open command first.\"            return  # Exit if no file is open        fi        local file=\"$CURRENT_FILE\"  # Set file to the current open file    fi    local search_term=\"$1\"    file=$(realpath \"$file\")    # Use grep to directly get the desired formatted output    local matches=$(grep -nH -- \"$search_term\" \"$file\")    # Check if no matches were found    if [ -z \"$matches\" ]; then        echo \"No matches found for \\\\\"$search_term\\\\\" in $file\"        return    fi    # Calculate total number of matches    local num_matches=$(echo \"$matches\" | wc -l | awk \\'{$1=$1; print $0}\\')        # calculate total number of lines matched    local num_lines=$(echo \"$matches\" | cut -d: -f1 | sort | uniq | wc -l | awk \\'{$1=$1; print $0}\\')    # if num_lines is > 100, print an error    if [ $num_lines -gt 100 ]; then        echo \"More than $num_lines lines matched for \\\\\"$search_term\\\\\" in $file. Please narrow your search.\"        return    fi    # Print the total number of matches and the matches themselves    echo \"Found $num_matches matches for \\\\\"$search_term\\\\\" in $file:\"    echo \"$matches\" | cut -d: -f1-2 | sort -u -t: -k2,2n | while IFS=: read -r filename line_number; do        echo \"Line $line_number:$(sed -n \"${line_number}p\" \"$file\")\"    done    echo \"End of matches for \\\\\"$search_term\\\\\" in $file\"}', name='search_file', docstring='searches for search_term in file. If file is not provided, searches in the current open file', end_name=None, arguments={'search_term': {'type': 'string', 'description': 'the term to search for', 'required': True}, 'file': {'type': 'string', 'description': 'the file to search in (if not provided, searches in the current open file)', 'required': False}}, signature='search_file <search_term> [<file>]'), Command(code='find_file() {    if [ $# -eq 1 ]; then        local file_name=\"$1\"        local dir=\"./\"    elif [ $# -eq 2 ]; then        local file_name=\"$1\"        if [ -d \"$2\" ]; then            local dir=\"$2\"        else            echo \"Directory $2 not found\"            return        fi    else        echo \"Usage: find_file <file_name> [<dir>]\"        return    fi    dir=$(realpath \"$dir\")    local matches=$(find \"$dir\" -type f -name \"$file_name\")    # if no matches, return    if [ -z \"$matches\" ]; then        echo \"No matches found for \\\\\"$file_name\\\\\" in $dir\"        return    fi    # Calculate total number of matches    local num_matches=$(echo \"$matches\" | wc -l | awk \\'{$1=$1; print $0}\\')    echo \"Found $num_matches matches for \\\\\"$file_name\\\\\" in $dir:\"    echo \"$matches\" | awk \\'{print $0}\\'}', name='find_file', docstring='finds all files with the given name in dir. If dir is not provided, searches in the current directory', end_name=None, arguments={'file_name': {'type': 'string', 'description': 'the name of the file to search for', 'required': True}, 'dir': {'type': 'string', 'description': 'the directory to search in (if not provided, searches in the current directory)', 'required': False}}, signature='find_file <file_name> [<dir>]'), Command(code='edit() {    if [ -z \"$CURRENT_FILE\" ]    then        echo \\'No file open. Use the `open` command first.\\'        return    fi    local start_line=\"$(echo $1: | cut -d: -f1)\"    local end_line=\"$(echo $1: | cut -d: -f2)\"    if [ -z \"$start_line\" ] || [ -z \"$end_line\" ]    then        echo \"Usage: edit <start_line>:<end_line>\"        return    fi    local re=\\'^[0-9]+$\\'    if ! [[ $start_line =~ $re ]]; then        echo \"Usage: edit <start_line>:<end_line>\"        echo \"Error: start_line must be a number\"        return    fi    if ! [[ $end_line =~ $re ]]; then        echo \"Usage: edit <start_line>:<end_line>\"        echo \"Error: end_line must be a number\"        return    fi    # Bash array starts at 0, so let\\'s adjust    local start_line=$((start_line - 1))    local end_line=$((end_line))    local line_count=0    local replacement=()    while IFS= read -r line    do        replacement+=(\"$line\")        ((line_count++))    done    # Create a backup of the current file    cp \"$CURRENT_FILE\" \"/root/$(basename \"$CURRENT_FILE\")_backup\"    # Read the file line by line into an array    mapfile -t lines < \"$CURRENT_FILE\"    local new_lines=(\"${lines[@]:0:$start_line}\" \"${replacement[@]}\" \"${lines[@]:$((end_line))}\")    # Write the new stuff directly back into the original file    printf \"%s\\\\n\" \"${new_lines[@]}\" >| \"$CURRENT_FILE\"        # Run linter    if [[ $CURRENT_FILE == *.py ]]; then        lint_output=$(flake8 --select=F821,F822,F831,E111,E112,E113,E999,E902 \"$CURRENT_FILE\" 2>&1)    else        # do nothing        lint_output=\"\"    fi    # if there is no output, then the file is good    if [ -z \"$lint_output\" ]; then        export CURRENT_LINE=$start_line        _constrain_line        _print        echo \"File updated. Please review the changes and make sure they are correct (correct indentation, no duplicate lines, etc). Edit the file again if necessary.\"    else        echo \"Your proposed edit has introduced new syntax error(s). Please understand the fixes and retry your edit commmand.\"        echo \"\"        echo \"ERRORS:\"        _split_string \"$lint_output\"        echo \"\"        # Save original values        original_current_line=$CURRENT_LINE        original_window=$WINDOW        # Update values        export CURRENT_LINE=$(( (line_count / 2) + start_line )) # Set to \"center\" of edit        export WINDOW=$((line_count + 10)) # Show +/- 5 lines around edit        echo \"This is how your edit would have looked if applied\"        echo \"-------------------------------------------------\"        _constrain_line        _print        echo \"-------------------------------------------------\"        echo \"\"        # Restoring CURRENT_FILE to original contents.        cp \"/root/$(basename \"$CURRENT_FILE\")_backup\" \"$CURRENT_FILE\"        export CURRENT_LINE=$(( ((end_line - start_line + 1) / 2) + start_line ))        export WINDOW=$((end_line - start_line + 10))        echo \"This is the original code before your edit\"        echo \"-------------------------------------------------\"        _constrain_line        _print        echo \"-------------------------------------------------\"        # Restore original values        export CURRENT_LINE=$original_current_line        export WINDOW=$original_window        echo \"Your changes have NOT been applied. Please fix your edit command and try again.\"        echo \"You either need to 1) Specify the correct start/end line arguments or 2) Correct your edit code.\"        echo \"DO NOT re-run the same failed edit command. Running it again will lead to the same error.\"    fi    # Remove backup file    rm -f \"/root/$(basename \"$CURRENT_FILE\")_backup\"}', name='edit', docstring='replaces lines <start_line> through <end_line> (inclusive) with the given text in the open file. The replacement text is terminated by a line with only end_of_edit on it. All of the <replacement text> will be entered, so make sure your indentation is formatted properly. Python files will be checked for syntax errors after the edit. If the system detects a syntax error, the edit will not be executed. Simply try to edit the file again, but make sure to read the error message and modify the edit command you issue accordingly. Issuing the same command a second time will just lead to the same error message again.', end_name='end_of_edit', arguments={'start_line': {'type': 'integer', 'description': 'the line number to start the edit at', 'required': True}, 'end_line': {'type': 'integer', 'description': 'the line number to end the edit at (inclusive)', 'required': True}, 'replacement_text': {'type': 'string', 'description': 'the text to replace the current selection with', 'required': True}}, signature='edit <start_line>:<end_line>\\n<replacement_text>\\nend_of_edit')], _subroutines={}, subroutine_types=[])), instance_filter='.*', skip_existing=True, suffix='')"
      ]
     },
     "execution_count": 7,
     "metadata": {},
     "output_type": "execute_result"
    }
   ],
   "source": [
    "args = parse_known_args(ScriptArguments, default=defaults, add_config_path_arg=False)\n",
    "a = args[0] \n",
    "\n",
    "# for instance level testing\n",
    "# a.data_path = \"https://github.com/pvlib/pvlib-python/issues/1603\"\n",
    "# a.config_file = \"config/default_from_url.yaml\"\n",
    "\n",
    "# for swe-bench-lite testing\n",
    "a.config_file = \"config/default.yaml\"\n",
    "\n",
    "args = a\n",
    "args\n"
   ]
  },
  {
   "cell_type": "code",
   "execution_count": 22,
   "id": "251a03ac-d811-4f75-83fa-0d7ac4582384",
   "metadata": {
    "tags": []
   },
   "outputs": [],
   "source": [
    "# main(args)\n"
   ]
  },
  {
   "cell_type": "code",
   "execution_count": null,
   "id": "76657fd0-3f54-40f5-a929-428ce081996e",
   "metadata": {},
   "outputs": [],
   "source": []
  },
  {
   "cell_type": "code",
   "execution_count": 8,
   "id": "b148bc41-aab6-480a-a8f8-06420286bb1d",
   "metadata": {
    "tags": []
   },
   "outputs": [],
   "source": [
    "def test_env(args: ScriptArguments):\n",
    "    logger.info(f\"📙 Arguments: {args.dumps_yaml()}\")\n",
    "    agent = Agent(\"primary\", args.agent)\n",
    "\n",
    "    env = SWEEnv(args.environment)\n",
    "\n",
    "    traj_dir = Path(\"trajectories\") / Path(getuser()) / args.run_name\n",
    "    os.makedirs(traj_dir, exist_ok=True)\n",
    "\n",
    "    save_arguments(traj_dir, args)\n",
    "\n",
    "    for index in range(len(env.data)):\n",
    "        try:\n",
    "            # Reset environment\n",
    "            instance_id = env.data[index][\"instance_id\"]\n",
    "            if should_skip(args, traj_dir, instance_id):\n",
    "                continue\n",
    "            logger.info(\"▶️  Beginning task \" + str(index))\n",
    "\n",
    "            observation, info = env.reset(index)\n",
    "            if info is None:\n",
    "                continue\n",
    "\n",
    "            # Get info, patch information\n",
    "            issue = getattr(env, \"query\", None)\n",
    "            files = []\n",
    "            if \"patch\" in env.record:\n",
    "                files = \"\\n\".join(\n",
    "                    [f\"- {x.path}\" for x in PatchSet(env.record[\"patch\"]).modified_files]\n",
    "                )\n",
    "            # Get test files, F2P tests information\n",
    "            test_files = []\n",
    "            if \"test_patch\" in env.record:\n",
    "                test_patch_obj = PatchSet(env.record[\"test_patch\"])\n",
    "                test_files = \"\\n\".join(\n",
    "                    [f\"- {x.path}\" for x in test_patch_obj.modified_files + test_patch_obj.added_files]\n",
    "                )\n",
    "            tests = \"\"\n",
    "            if \"FAIL_TO_PASS\" in env.record:\n",
    "                tests = \"\\n\".join([f\"- {x}\" for x in env.record[\"FAIL_TO_PASS\"]])\n",
    "\n",
    "            setup_args = {\n",
    "                \"issue\": issue,\n",
    "                \"files\": files,\n",
    "                \"test_files\": test_files,\n",
    "                \"tests\": tests\n",
    "            }\n",
    "            info = agent.run(\n",
    "                setup_args=setup_args,\n",
    "                env=env,\n",
    "                observation=observation,\n",
    "                traj_dir=traj_dir,\n",
    "                return_type=\"info\",\n",
    "            )\n",
    "            save_predictions(traj_dir, instance_id, info)\n",
    "\n",
    "        except KeyboardInterrupt:\n",
    "            logger.info(\"Exiting InterCode environment...\")\n",
    "            env.close()\n",
    "            break\n",
    "        except Exception as e:\n",
    "            traceback.print_exc()\n",
    "            logger.warning(f\"❌ Failed on {env.record['instance_id']}: {e}\")\n",
    "            env.reset_container()\n",
    "            continue\n"
   ]
  },
  {
   "cell_type": "code",
   "execution_count": 9,
   "id": "0d50e0b0-3e40-46c1-89c4-de612d2af49d",
   "metadata": {
    "tags": []
   },
   "outputs": [
    {
     "name": "stderr",
     "output_type": "stream",
     "text": [
      "Downloading readme: 100%|███████████████████████████████| 3.67k/3.67k [00:00<00:00, 14.3MB/s]\n",
      "Downloading data: 100%|████████████████████████████████████| 120k/120k [00:00<00:00, 420kB/s]\n",
      "Downloading data: 100%|█████████████████████████████████| 1.18M/1.18M [00:00<00:00, 6.41MB/s]\n",
      "Generating dev split: 100%|██████████████████████████| 23/23 [00:00<00:00, 857.46 examples/s]\n",
      "Generating test split: 100%|█████████████████████| 300/300 [00:00<00:00, 37608.08 examples/s]\n"
     ]
    },
    {
     "data": {
      "text/html": [
       "<pre style=\"white-space:pre;overflow-x:auto;line-height:normal;font-family:Menlo,'DejaVu Sans Mono',consolas,'Courier New',monospace\"><span style=\"color: #000080; text-decoration-color: #000080\">INFO    </span> 💽 Loaded dataset from princeton-nlp/SWE-bench_Lite                                                       \n",
       "</pre>\n"
      ],
      "text/plain": [
       "\u001b[34mINFO    \u001b[0m 💽 Loaded dataset from princeton-nlp/SWE-bench_Lite                                                       \n"
      ]
     },
     "metadata": {},
     "output_type": "display_data"
    },
    {
     "data": {
      "text/html": [
       "<pre style=\"white-space:pre;overflow-x:auto;line-height:normal;font-family:Menlo,'DejaVu Sans Mono',consolas,'Courier New',monospace\"><span style=\"color: #000080; text-decoration-color: #000080\">INFO    </span> Found image swe-agent with tags: <span style=\"font-weight: bold\">[</span><span style=\"color: #008000; text-decoration-color: #008000\">'swe-agent:latest'</span><span style=\"font-weight: bold\">]</span>, created: <span style=\"color: #008080; text-decoration-color: #008080; font-weight: bold\">2024</span>-<span style=\"color: #008080; text-decoration-color: #008080; font-weight: bold\">04</span>-02T<span style=\"color: #00ff00; text-decoration-color: #00ff00; font-weight: bold\">23:37:55</span>.180823208Z for linux  \n",
       "         amd64.                                                                                                    \n",
       "</pre>\n"
      ],
      "text/plain": [
       "\u001b[34mINFO    \u001b[0m Found image swe-agent with tags: \u001b[1m[\u001b[0m\u001b[32m'swe-agent:latest'\u001b[0m\u001b[1m]\u001b[0m, created: \u001b[1;36m2024\u001b[0m-\u001b[1;36m04\u001b[0m-02T\u001b[1;92m23:37:55\u001b[0m.180823208Z for linux  \n",
       "         amd64.                                                                                                    \n"
      ]
     },
     "metadata": {},
     "output_type": "display_data"
    },
    {
     "data": {
      "text/html": [
       "<pre style=\"white-space:pre;overflow-x:auto;line-height:normal;font-family:Menlo,'DejaVu Sans Mono',consolas,'Courier New',monospace\"><span style=\"color: #008000; text-decoration-color: #008000\">DEBUG   </span> Starting container with command: docker run -i --rm --name swe-agent-0ac67fae8d swe-agent <span style=\"color: #800080; text-decoration-color: #800080\">/bin/</span><span style=\"color: #ff00ff; text-decoration-color: #ff00ff\">bash</span> -l -m \n",
       "</pre>\n"
      ],
      "text/plain": [
       "\u001b[32mDEBUG   \u001b[0m Starting container with command: docker run -i --rm --name swe-agent-0ac67fae8d swe-agent \u001b[35m/bin/\u001b[0m\u001b[95mbash\u001b[0m -l -m \n"
      ]
     },
     "metadata": {},
     "output_type": "display_data"
    },
    {
     "data": {
      "text/html": [
       "<pre style=\"white-space:pre;overflow-x:auto;line-height:normal;font-family:Menlo,'DejaVu Sans Mono',consolas,'Courier New',monospace\"><span style=\"color: #000080; text-decoration-color: #000080\">INFO    </span> 🌱 Environment Initialized                                                                                \n",
       "</pre>\n"
      ],
      "text/plain": [
       "\u001b[34mINFO    \u001b[0m 🌱 Environment Initialized                                                                                \n"
      ]
     },
     "metadata": {},
     "output_type": "display_data"
    }
   ],
   "source": [
    "agent = Agent(\"primary\", args.agent)\n",
    "env = SWEEnv(args.environment)\n"
   ]
  },
  {
   "cell_type": "code",
   "execution_count": 10,
   "id": "c3916fc0-0e31-434b-a3b7-4f328d0c6556",
   "metadata": {
    "tags": []
   },
   "outputs": [
    {
     "data": {
      "text/plain": [
       "'dev'"
      ]
     },
     "execution_count": 10,
     "metadata": {},
     "output_type": "execute_result"
    }
   ],
   "source": [
    "args.split"
   ]
  },
  {
   "cell_type": "code",
   "execution_count": 38,
   "id": "7e1b359c",
   "metadata": {},
   "outputs": [
    {
     "data": {
      "text/plain": [
       "dict_keys(['repo', 'instance_id', 'base_commit', 'patch', 'test_patch', 'problem_statement', 'hints_text', 'created_at', 'version', 'FAIL_TO_PASS', 'PASS_TO_PASS', 'environment_setup_commit'])"
      ]
     },
     "execution_count": 38,
     "metadata": {},
     "output_type": "execute_result"
    }
   ],
   "source": [
    "env.data[0].keys()\n"
   ]
  },
  {
   "cell_type": "code",
   "execution_count": 44,
   "id": "383280a4",
   "metadata": {},
   "outputs": [
    {
     "name": "stdout",
     "output_type": "stream",
     "text": [
      "23\n"
     ]
    },
    {
     "data": {
      "text/html": [
       "<div>\n",
       "<style scoped>\n",
       "    .dataframe tbody tr th:only-of-type {\n",
       "        vertical-align: middle;\n",
       "    }\n",
       "\n",
       "    .dataframe tbody tr th {\n",
       "        vertical-align: top;\n",
       "    }\n",
       "\n",
       "    .dataframe thead th {\n",
       "        text-align: right;\n",
       "    }\n",
       "</style>\n",
       "<table border=\"1\" class=\"dataframe\">\n",
       "  <thead>\n",
       "    <tr style=\"text-align: right;\">\n",
       "      <th></th>\n",
       "      <th>repo</th>\n",
       "      <th>instance_id</th>\n",
       "      <th>base_commit</th>\n",
       "      <th>patch</th>\n",
       "      <th>test_patch</th>\n",
       "      <th>problem_statement</th>\n",
       "      <th>hints_text</th>\n",
       "      <th>created_at</th>\n",
       "      <th>version</th>\n",
       "      <th>FAIL_TO_PASS</th>\n",
       "      <th>PASS_TO_PASS</th>\n",
       "      <th>environment_setup_commit</th>\n",
       "    </tr>\n",
       "  </thead>\n",
       "  <tbody>\n",
       "    <tr>\n",
       "      <th>0</th>\n",
       "      <td>sqlfluff/sqlfluff</td>\n",
       "      <td>sqlfluff__sqlfluff-1625</td>\n",
       "      <td>14e1a23a3166b9a645a16de96f694c77a5d4abb7</td>\n",
       "      <td>diff --git a/src/sqlfluff/rules/L031.py b/src/...</td>\n",
       "      <td>diff --git a/test/cli/commands_test.py b/test/...</td>\n",
       "      <td>TSQL - L031 incorrectly triggers \"Avoid using ...</td>\n",
       "      <td>Actually, re-reading the docs I think this is ...</td>\n",
       "      <td>2021-10-13T11:35:29Z</td>\n",
       "      <td>0.6</td>\n",
       "      <td>[\"test/cli/commands_test.py::test__cli__comman...</td>\n",
       "      <td>[\"test/cli/commands_test.py::test__cli__comman...</td>\n",
       "      <td>67023b85c41d23d6c6d69812a41b207c4f8a9331</td>\n",
       "    </tr>\n",
       "    <tr>\n",
       "      <th>1</th>\n",
       "      <td>sqlfluff/sqlfluff</td>\n",
       "      <td>sqlfluff__sqlfluff-2419</td>\n",
       "      <td>f1dba0e1dd764ae72d67c3d5e1471cf14d3db030</td>\n",
       "      <td>diff --git a/src/sqlfluff/rules/L060.py b/src/...</td>\n",
       "      <td>diff --git a/test/rules/std_L060_test.py b/tes...</td>\n",
       "      <td>Rule L060 could give a specific error message\\...</td>\n",
       "      <td>@tunetheweb Yeah definitely, should be a prett...</td>\n",
       "      <td>2022-01-22T12:21:52Z</td>\n",
       "      <td>0.8</td>\n",
       "      <td>[\"test/rules/std_L060_test.py::test__rules__st...</td>\n",
       "      <td>[]</td>\n",
       "      <td>a5c4eae4e3e419fe95460c9afd9cf39a35a470c4</td>\n",
       "    </tr>\n",
       "    <tr>\n",
       "      <th>2</th>\n",
       "      <td>sqlfluff/sqlfluff</td>\n",
       "      <td>sqlfluff__sqlfluff-1733</td>\n",
       "      <td>a1579a16b1d8913d9d7c7d12add374a290bcc78c</td>\n",
       "      <td>diff --git a/src/sqlfluff/rules/L039.py b/src/...</td>\n",
       "      <td>diff --git a/test/rules/std_L003_L036_L039_com...</td>\n",
       "      <td>Extra space when first field moved to new line...</td>\n",
       "      <td>Does running `sqlfluff fix` again correct the ...</td>\n",
       "      <td>2021-10-22T18:23:33Z</td>\n",
       "      <td>0.6</td>\n",
       "      <td>[\"test/rules/std_L003_L036_L039_combo_test.py:...</td>\n",
       "      <td>[\"test/rules/std_L016_L36_combo_test.py::test_...</td>\n",
       "      <td>67023b85c41d23d6c6d69812a41b207c4f8a9331</td>\n",
       "    </tr>\n",
       "    <tr>\n",
       "      <th>3</th>\n",
       "      <td>sqlfluff/sqlfluff</td>\n",
       "      <td>sqlfluff__sqlfluff-1517</td>\n",
       "      <td>304a197829f98e7425a46d872ada73176137e5ae</td>\n",
       "      <td>diff --git a/src/sqlfluff/core/parser/helpers....</td>\n",
       "      <td>diff --git a/test/dialects/ansi_test.py b/test...</td>\n",
       "      <td>\"Dropped elements in sequence matching\" when d...</td>\n",
       "      <td>Sounds similar to #1458 where we should handle...</td>\n",
       "      <td>2021-10-06T07:57:35Z</td>\n",
       "      <td>0.6</td>\n",
       "      <td>[\"test/dialects/ansi_test.py::test__dialect__a...</td>\n",
       "      <td>[\"test/dialects/ansi_test.py::test__dialect__a...</td>\n",
       "      <td>67023b85c41d23d6c6d69812a41b207c4f8a9331</td>\n",
       "    </tr>\n",
       "    <tr>\n",
       "      <th>4</th>\n",
       "      <td>sqlfluff/sqlfluff</td>\n",
       "      <td>sqlfluff__sqlfluff-1763</td>\n",
       "      <td>a10057635e5b2559293a676486f0b730981f037a</td>\n",
       "      <td>diff --git a/src/sqlfluff/core/linter/linted_f...</td>\n",
       "      <td>diff --git a/test/core/linter_test.py b/test/c...</td>\n",
       "      <td>dbt postgres fix command errors with UnicodeEn...</td>\n",
       "      <td>I get a dbt-related error -- can you provide y...</td>\n",
       "      <td>2021-10-26T17:28:28Z</td>\n",
       "      <td>0.6</td>\n",
       "      <td>[\"test/core/linter_test.py::test_safe_create_r...</td>\n",
       "      <td>[\"test/core/linter_test.py::test__linter__path...</td>\n",
       "      <td>67023b85c41d23d6c6d69812a41b207c4f8a9331</td>\n",
       "    </tr>\n",
       "    <tr>\n",
       "      <th>5</th>\n",
       "      <td>marshmallow-code/marshmallow</td>\n",
       "      <td>marshmallow-code__marshmallow-1359</td>\n",
       "      <td>b40a0f4e33823e6d0f341f7e8684e359a99060d1</td>\n",
       "      <td>diff --git a/src/marshmallow/fields.py b/src/m...</td>\n",
       "      <td>diff --git a/tests/test_fields.py b/tests/test...</td>\n",
       "      <td>3.0: DateTime fields cannot be used as inner f...</td>\n",
       "      <td>Thanks for reporting. I don't think I'll have ...</td>\n",
       "      <td>2019-08-21T15:45:13Z</td>\n",
       "      <td>3.0</td>\n",
       "      <td>[\"tests/test_fields.py::TestParentAndName::tes...</td>\n",
       "      <td>[\"tests/test_fields.py::test_field_aliases[Int...</td>\n",
       "      <td>8b3a32614fd4a74e93e9a63a042e74c1fea34466</td>\n",
       "    </tr>\n",
       "    <tr>\n",
       "      <th>6</th>\n",
       "      <td>marshmallow-code/marshmallow</td>\n",
       "      <td>marshmallow-code__marshmallow-1343</td>\n",
       "      <td>2be2d83a1a9a6d3d9b85804f3ab545cecc409bb0</td>\n",
       "      <td>diff --git a/src/marshmallow/schema.py b/src/m...</td>\n",
       "      <td>diff --git a/tests/test_marshalling.py b/tests...</td>\n",
       "      <td>[version 2.20.0] TypeError: 'NoneType' object ...</td>\n",
       "      <td>Thanks for reporting. I was able to reproduce ...</td>\n",
       "      <td>2019-08-13T04:36:01Z</td>\n",
       "      <td>2.20</td>\n",
       "      <td>[\"tests/test_marshalling.py::TestUnmarshaller:...</td>\n",
       "      <td>[\"tests/test_marshalling.py::test_missing_is_f...</td>\n",
       "      <td>7015fc4333a2f32cd58c3465296e834acd4496ff</td>\n",
       "    </tr>\n",
       "    <tr>\n",
       "      <th>7</th>\n",
       "      <td>pvlib/pvlib-python</td>\n",
       "      <td>pvlib__pvlib-python-1707</td>\n",
       "      <td>40e9e978c170bdde4eeee1547729417665dbc34c</td>\n",
       "      <td>diff --git a/pvlib/iam.py b/pvlib/iam.py\\n--- ...</td>\n",
       "      <td>diff --git a/pvlib/tests/test_iam.py b/pvlib/t...</td>\n",
       "      <td>regression: iam.physical returns nan for aoi &gt;...</td>\n",
       "      <td></td>\n",
       "      <td>2023-03-24T10:46:42Z</td>\n",
       "      <td>0.9</td>\n",
       "      <td>[\"pvlib/tests/test_iam.py::test_physical_n1_L0\"]</td>\n",
       "      <td>[\"pvlib/tests/test_iam.py::test_ashrae\", \"pvli...</td>\n",
       "      <td>6072e0982c3c0236f532ddfa48fbf461180d834e</td>\n",
       "    </tr>\n",
       "    <tr>\n",
       "      <th>8</th>\n",
       "      <td>pvlib/pvlib-python</td>\n",
       "      <td>pvlib__pvlib-python-1072</td>\n",
       "      <td>04a523fafbd61bc2e49420963b84ed8e2bd1b3cf</td>\n",
       "      <td>diff --git a/pvlib/temperature.py b/pvlib/temp...</td>\n",
       "      <td>diff --git a/pvlib/tests/test_temperature.py b...</td>\n",
       "      <td>temperature.fuentes errors when given tz-aware...</td>\n",
       "      <td></td>\n",
       "      <td>2020-10-01T00:53:14Z</td>\n",
       "      <td>0.7</td>\n",
       "      <td>[\"pvlib/tests/test_temperature.py::test_fuente...</td>\n",
       "      <td>[\"pvlib/tests/test_temperature.py::test_sapm_c...</td>\n",
       "      <td>6e5148f59c5050e8f7a0084b7ae39e93b80f72e6</td>\n",
       "    </tr>\n",
       "    <tr>\n",
       "      <th>9</th>\n",
       "      <td>pvlib/pvlib-python</td>\n",
       "      <td>pvlib__pvlib-python-1606</td>\n",
       "      <td>c78b50f4337ecbe536a961336ca91a1176efc0e8</td>\n",
       "      <td>diff --git a/pvlib/tools.py b/pvlib/tools.py\\n...</td>\n",
       "      <td>diff --git a/pvlib/tests/test_tools.py b/pvlib...</td>\n",
       "      <td>golden-section search fails when upper and low...</td>\n",
       "      <td>Confirmed. This appears to be an oversight in ...</td>\n",
       "      <td>2022-12-07T21:12:08Z</td>\n",
       "      <td>0.8</td>\n",
       "      <td>[\"pvlib/tests/test_tools.py::test__golden_sect...</td>\n",
       "      <td>[\"pvlib/tests/test_tools.py::test_build_kwargs...</td>\n",
       "      <td>ef8ad2fee9840a77d14b0dfd17fc489dd85c9b91</td>\n",
       "    </tr>\n",
       "    <tr>\n",
       "      <th>10</th>\n",
       "      <td>pvlib/pvlib-python</td>\n",
       "      <td>pvlib__pvlib-python-1854</td>\n",
       "      <td>27a3a07ebc84b11014d3753e4923902adf9a38c0</td>\n",
       "      <td>diff --git a/pvlib/pvsystem.py b/pvlib/pvsyste...</td>\n",
       "      <td>diff --git a/pvlib/tests/test_pvsystem.py b/pv...</td>\n",
       "      <td>PVSystem with single Array generates an error\\...</td>\n",
       "      <td></td>\n",
       "      <td>2023-09-13T17:25:47Z</td>\n",
       "      <td>0.9</td>\n",
       "      <td>[\"pvlib/tests/test_pvsystem.py::test_PVSystem_...</td>\n",
       "      <td>[\"pvlib/tests/test_pvsystem.py::test_PVSystem_...</td>\n",
       "      <td>6072e0982c3c0236f532ddfa48fbf461180d834e</td>\n",
       "    </tr>\n",
       "    <tr>\n",
       "      <th>11</th>\n",
       "      <td>pvlib/pvlib-python</td>\n",
       "      <td>pvlib__pvlib-python-1154</td>\n",
       "      <td>0b8f24c265d76320067a5ee908a57d475cd1bb24</td>\n",
       "      <td>diff --git a/pvlib/irradiance.py b/pvlib/irrad...</td>\n",
       "      <td>diff --git a/pvlib/tests/test_irradiance.py b/...</td>\n",
       "      <td>pvlib.irradiance.reindl() model generates NaNs...</td>\n",
       "      <td>Verified. Looks like an easy fix.\\nVerified. L...</td>\n",
       "      <td>2021-01-29T20:53:24Z</td>\n",
       "      <td>0.8</td>\n",
       "      <td>[\"pvlib/tests/test_irradiance.py::test_reindl\"]</td>\n",
       "      <td>[\"pvlib/tests/test_irradiance.py::test_get_ext...</td>\n",
       "      <td>ef8ad2fee9840a77d14b0dfd17fc489dd85c9b91</td>\n",
       "    </tr>\n",
       "    <tr>\n",
       "      <th>12</th>\n",
       "      <td>pylint-dev/astroid</td>\n",
       "      <td>pylint-dev__astroid-1978</td>\n",
       "      <td>0c9ab0fe56703fa83c73e514a1020d398d23fa7f</td>\n",
       "      <td>diff --git a/astroid/raw_building.py b/astroid...</td>\n",
       "      <td>diff --git a/tests/unittest_raw_building.py b/...</td>\n",
       "      <td>Deprecation warnings from numpy\\n### Steps to ...</td>\n",
       "      <td>This seems very similar to https://github.com/...</td>\n",
       "      <td>2023-01-28T06:14:39Z</td>\n",
       "      <td>2.14</td>\n",
       "      <td>[\"tests/unittest_raw_building.py::test_build_m...</td>\n",
       "      <td>[\"tests/unittest_raw_building.py::RawBuildingT...</td>\n",
       "      <td>0c9ab0fe56703fa83c73e514a1020d398d23fa7f</td>\n",
       "    </tr>\n",
       "    <tr>\n",
       "      <th>13</th>\n",
       "      <td>pylint-dev/astroid</td>\n",
       "      <td>pylint-dev__astroid-1333</td>\n",
       "      <td>d2a5b3c7b1e203fec3c7ca73c30eb1785d3d4d0a</td>\n",
       "      <td>diff --git a/astroid/modutils.py b/astroid/mod...</td>\n",
       "      <td>diff --git a/tests/unittest_modutils.py b/test...</td>\n",
       "      <td>astroid 2.9.1 breaks pylint with missing __ini...</td>\n",
       "      <td>I can't seem to reproduce this in my `virtuale...</td>\n",
       "      <td>2022-01-08T19:36:45Z</td>\n",
       "      <td>2.10</td>\n",
       "      <td>[\"tests/unittest_modutils.py::ModPathFromFileT...</td>\n",
       "      <td>[\"tests/unittest_modutils.py::ModuleFileTest::...</td>\n",
       "      <td>da745538c7236028a22cdf0405f6829fcf6886bc</td>\n",
       "    </tr>\n",
       "    <tr>\n",
       "      <th>14</th>\n",
       "      <td>pylint-dev/astroid</td>\n",
       "      <td>pylint-dev__astroid-1196</td>\n",
       "      <td>39c2a9805970ca57093d32bbaf0e6a63e05041d8</td>\n",
       "      <td>diff --git a/astroid/nodes/node_classes.py b/a...</td>\n",
       "      <td>diff --git a/tests/unittest_python3.py b/tests...</td>\n",
       "      <td>getitem does not infer the actual unpacked val...</td>\n",
       "      <td></td>\n",
       "      <td>2021-10-03T15:58:07Z</td>\n",
       "      <td>2.12</td>\n",
       "      <td>[\"tests/unittest_python3.py::Python3TC::test_u...</td>\n",
       "      <td>[\"tests/unittest_python3.py::Python3TC::test_a...</td>\n",
       "      <td>52f6d2d7722db383af035be929f18af5e9fe8cd5</td>\n",
       "    </tr>\n",
       "    <tr>\n",
       "      <th>15</th>\n",
       "      <td>pylint-dev/astroid</td>\n",
       "      <td>pylint-dev__astroid-1866</td>\n",
       "      <td>6cf238d089cf4b6753c94cfc089b4a47487711e5</td>\n",
       "      <td>diff --git a/astroid/brain/brain_builtin_infer...</td>\n",
       "      <td>diff --git a/tests/unittest_brain_builtin.py b...</td>\n",
       "      <td>\"TypeError: unsupported format string passed t...</td>\n",
       "      <td>Hi @crosser, thanks for the report.\\r\\n\\r\\n&gt; I...</td>\n",
       "      <td>2022-11-12T19:21:34Z</td>\n",
       "      <td>2.13</td>\n",
       "      <td>[\"tests/unittest_brain_builtin.py::TestStringN...</td>\n",
       "      <td>[\"tests/unittest_brain_builtin.py::BuiltinsTes...</td>\n",
       "      <td>fe058bff95745371df5796286d33677c21137847</td>\n",
       "    </tr>\n",
       "    <tr>\n",
       "      <th>16</th>\n",
       "      <td>pylint-dev/astroid</td>\n",
       "      <td>pylint-dev__astroid-1268</td>\n",
       "      <td>ce5cbce5ba11cdc2f8139ade66feea1e181a7944</td>\n",
       "      <td>diff --git a/astroid/nodes/as_string.py b/astr...</td>\n",
       "      <td>diff --git a/tests/unittest_nodes.py b/tests/u...</td>\n",
       "      <td>'AsStringVisitor' object has no attribute 'vis...</td>\n",
       "      <td>Thank you for opening the issue.\\nI don't beli...</td>\n",
       "      <td>2021-11-21T16:15:23Z</td>\n",
       "      <td>2.9</td>\n",
       "      <td>[\"tests/unittest_nodes.py::AsStringTest::test_...</td>\n",
       "      <td>[\"tests/unittest_nodes.py::AsStringTest::test_...</td>\n",
       "      <td>0d1211558670cfefd95b39984b8d5f7f34837f32</td>\n",
       "    </tr>\n",
       "    <tr>\n",
       "      <th>17</th>\n",
       "      <td>pyvista/pyvista</td>\n",
       "      <td>pyvista__pyvista-4315</td>\n",
       "      <td>db6ee8dd4a747b8864caae36c5d05883976a3ae5</td>\n",
       "      <td>diff --git a/pyvista/core/grid.py b/pyvista/co...</td>\n",
       "      <td>diff --git a/tests/test_grid.py b/tests/test_g...</td>\n",
       "      <td>Rectilinear grid does not allow Sequences as i...</td>\n",
       "      <td></td>\n",
       "      <td>2023-04-21T13:47:31Z</td>\n",
       "      <td>0.39</td>\n",
       "      <td>[\"tests/test_grid.py::test_create_rectilinear_...</td>\n",
       "      <td>[\"tests/test_grid.py::test_volume\", \"tests/tes...</td>\n",
       "      <td>4c2d1aed10b1600d520271beba8579c71433e808</td>\n",
       "    </tr>\n",
       "    <tr>\n",
       "      <th>18</th>\n",
       "      <td>pydicom/pydicom</td>\n",
       "      <td>pydicom__pydicom-1694</td>\n",
       "      <td>f8cf45b6c121e5a4bf4a43f71aba3bc64af3db9c</td>\n",
       "      <td>diff --git a/pydicom/dataset.py b/pydicom/data...</td>\n",
       "      <td>diff --git a/pydicom/tests/test_json.py b/pydi...</td>\n",
       "      <td>Dataset.to_json_dict can still generate except...</td>\n",
       "      <td></td>\n",
       "      <td>2022-09-20T18:52:53Z</td>\n",
       "      <td>2.3</td>\n",
       "      <td>[\"pydicom/tests/test_json.py::TestDataSetToJso...</td>\n",
       "      <td>[\"pydicom/tests/test_json.py::TestPersonName::...</td>\n",
       "      <td>a8be738418dee0a2b93c241fbd5e0bc82f4b8680</td>\n",
       "    </tr>\n",
       "    <tr>\n",
       "      <th>19</th>\n",
       "      <td>pydicom/pydicom</td>\n",
       "      <td>pydicom__pydicom-1413</td>\n",
       "      <td>f909c76e31f759246cec3708dadd173c5d6e84b1</td>\n",
       "      <td>diff --git a/pydicom/dataelem.py b/pydicom/dat...</td>\n",
       "      <td>diff --git a/pydicom/tests/test_valuerep.py b/...</td>\n",
       "      <td>Error : a bytes-like object is required, not '...</td>\n",
       "      <td>Also tried following code to get the byte stri...</td>\n",
       "      <td>2021-06-16T09:47:08Z</td>\n",
       "      <td>2.1</td>\n",
       "      <td>[\"pydicom/tests/test_valuerep.py::test_assigni...</td>\n",
       "      <td>[\"pydicom/tests/test_valuerep.py::TestTM::test...</td>\n",
       "      <td>506ecea8f378dc687d5c504788fc78810a190b7a</td>\n",
       "    </tr>\n",
       "    <tr>\n",
       "      <th>20</th>\n",
       "      <td>pydicom/pydicom</td>\n",
       "      <td>pydicom__pydicom-901</td>\n",
       "      <td>3746878d8edf1cbda6fbcf35eec69f9ba79301ca</td>\n",
       "      <td>diff --git a/pydicom/config.py b/pydicom/confi...</td>\n",
       "      <td>diff --git a/pydicom/tests/test_config.py b/py...</td>\n",
       "      <td>pydicom should not define handler, formatter a...</td>\n",
       "      <td>In addition, I don't understand what the purpo...</td>\n",
       "      <td>2019-07-27T00:18:11Z</td>\n",
       "      <td>1.3</td>\n",
       "      <td>[\"pydicom/tests/test_config.py::TestDebug::tes...</td>\n",
       "      <td>[]</td>\n",
       "      <td>7241f5d9db0de589b230bb84212fbb643a7c86c3</td>\n",
       "    </tr>\n",
       "    <tr>\n",
       "      <th>21</th>\n",
       "      <td>pydicom/pydicom</td>\n",
       "      <td>pydicom__pydicom-1139</td>\n",
       "      <td>b9fb05c177b685bf683f7f57b2d57374eb7d882d</td>\n",
       "      <td>diff --git a/pydicom/valuerep.py b/pydicom/val...</td>\n",
       "      <td>diff --git a/pydicom/tests/test_valuerep.py b/...</td>\n",
       "      <td>Make PersonName3 iterable\\n```python\\r\\nfrom p...</td>\n",
       "      <td>I think it is reasonable to support at least s...</td>\n",
       "      <td>2020-06-26T11:47:17Z</td>\n",
       "      <td>2.0</td>\n",
       "      <td>[\"pydicom/tests/test_valuerep.py::TestPersonNa...</td>\n",
       "      <td>[\"pydicom/tests/test_valuerep.py::TestTM::test...</td>\n",
       "      <td>9d69811e539774f296c2f289839147e741251716</td>\n",
       "    </tr>\n",
       "    <tr>\n",
       "      <th>22</th>\n",
       "      <td>pydicom/pydicom</td>\n",
       "      <td>pydicom__pydicom-1256</td>\n",
       "      <td>49a3da4a3d9c24d7e8427a25048a1c7d5c4f7724</td>\n",
       "      <td>diff --git a/pydicom/jsonrep.py b/pydicom/json...</td>\n",
       "      <td>diff --git a/pydicom/tests/test_json.py b/pydi...</td>\n",
       "      <td>from_json does not correctly convert BulkDataU...</td>\n",
       "      <td></td>\n",
       "      <td>2020-11-04T21:13:33Z</td>\n",
       "      <td>2.1</td>\n",
       "      <td>[\"pydicom/tests/test_json.py::TestBinary::test...</td>\n",
       "      <td>[\"pydicom/tests/test_json.py::TestPersonName::...</td>\n",
       "      <td>506ecea8f378dc687d5c504788fc78810a190b7a</td>\n",
       "    </tr>\n",
       "  </tbody>\n",
       "</table>\n",
       "</div>"
      ],
      "text/plain": [
       "                            repo                         instance_id  \\\n",
       "0              sqlfluff/sqlfluff             sqlfluff__sqlfluff-1625   \n",
       "1              sqlfluff/sqlfluff             sqlfluff__sqlfluff-2419   \n",
       "2              sqlfluff/sqlfluff             sqlfluff__sqlfluff-1733   \n",
       "3              sqlfluff/sqlfluff             sqlfluff__sqlfluff-1517   \n",
       "4              sqlfluff/sqlfluff             sqlfluff__sqlfluff-1763   \n",
       "5   marshmallow-code/marshmallow  marshmallow-code__marshmallow-1359   \n",
       "6   marshmallow-code/marshmallow  marshmallow-code__marshmallow-1343   \n",
       "7             pvlib/pvlib-python            pvlib__pvlib-python-1707   \n",
       "8             pvlib/pvlib-python            pvlib__pvlib-python-1072   \n",
       "9             pvlib/pvlib-python            pvlib__pvlib-python-1606   \n",
       "10            pvlib/pvlib-python            pvlib__pvlib-python-1854   \n",
       "11            pvlib/pvlib-python            pvlib__pvlib-python-1154   \n",
       "12            pylint-dev/astroid            pylint-dev__astroid-1978   \n",
       "13            pylint-dev/astroid            pylint-dev__astroid-1333   \n",
       "14            pylint-dev/astroid            pylint-dev__astroid-1196   \n",
       "15            pylint-dev/astroid            pylint-dev__astroid-1866   \n",
       "16            pylint-dev/astroid            pylint-dev__astroid-1268   \n",
       "17               pyvista/pyvista               pyvista__pyvista-4315   \n",
       "18               pydicom/pydicom               pydicom__pydicom-1694   \n",
       "19               pydicom/pydicom               pydicom__pydicom-1413   \n",
       "20               pydicom/pydicom                pydicom__pydicom-901   \n",
       "21               pydicom/pydicom               pydicom__pydicom-1139   \n",
       "22               pydicom/pydicom               pydicom__pydicom-1256   \n",
       "\n",
       "                                 base_commit  \\\n",
       "0   14e1a23a3166b9a645a16de96f694c77a5d4abb7   \n",
       "1   f1dba0e1dd764ae72d67c3d5e1471cf14d3db030   \n",
       "2   a1579a16b1d8913d9d7c7d12add374a290bcc78c   \n",
       "3   304a197829f98e7425a46d872ada73176137e5ae   \n",
       "4   a10057635e5b2559293a676486f0b730981f037a   \n",
       "5   b40a0f4e33823e6d0f341f7e8684e359a99060d1   \n",
       "6   2be2d83a1a9a6d3d9b85804f3ab545cecc409bb0   \n",
       "7   40e9e978c170bdde4eeee1547729417665dbc34c   \n",
       "8   04a523fafbd61bc2e49420963b84ed8e2bd1b3cf   \n",
       "9   c78b50f4337ecbe536a961336ca91a1176efc0e8   \n",
       "10  27a3a07ebc84b11014d3753e4923902adf9a38c0   \n",
       "11  0b8f24c265d76320067a5ee908a57d475cd1bb24   \n",
       "12  0c9ab0fe56703fa83c73e514a1020d398d23fa7f   \n",
       "13  d2a5b3c7b1e203fec3c7ca73c30eb1785d3d4d0a   \n",
       "14  39c2a9805970ca57093d32bbaf0e6a63e05041d8   \n",
       "15  6cf238d089cf4b6753c94cfc089b4a47487711e5   \n",
       "16  ce5cbce5ba11cdc2f8139ade66feea1e181a7944   \n",
       "17  db6ee8dd4a747b8864caae36c5d05883976a3ae5   \n",
       "18  f8cf45b6c121e5a4bf4a43f71aba3bc64af3db9c   \n",
       "19  f909c76e31f759246cec3708dadd173c5d6e84b1   \n",
       "20  3746878d8edf1cbda6fbcf35eec69f9ba79301ca   \n",
       "21  b9fb05c177b685bf683f7f57b2d57374eb7d882d   \n",
       "22  49a3da4a3d9c24d7e8427a25048a1c7d5c4f7724   \n",
       "\n",
       "                                                patch  \\\n",
       "0   diff --git a/src/sqlfluff/rules/L031.py b/src/...   \n",
       "1   diff --git a/src/sqlfluff/rules/L060.py b/src/...   \n",
       "2   diff --git a/src/sqlfluff/rules/L039.py b/src/...   \n",
       "3   diff --git a/src/sqlfluff/core/parser/helpers....   \n",
       "4   diff --git a/src/sqlfluff/core/linter/linted_f...   \n",
       "5   diff --git a/src/marshmallow/fields.py b/src/m...   \n",
       "6   diff --git a/src/marshmallow/schema.py b/src/m...   \n",
       "7   diff --git a/pvlib/iam.py b/pvlib/iam.py\\n--- ...   \n",
       "8   diff --git a/pvlib/temperature.py b/pvlib/temp...   \n",
       "9   diff --git a/pvlib/tools.py b/pvlib/tools.py\\n...   \n",
       "10  diff --git a/pvlib/pvsystem.py b/pvlib/pvsyste...   \n",
       "11  diff --git a/pvlib/irradiance.py b/pvlib/irrad...   \n",
       "12  diff --git a/astroid/raw_building.py b/astroid...   \n",
       "13  diff --git a/astroid/modutils.py b/astroid/mod...   \n",
       "14  diff --git a/astroid/nodes/node_classes.py b/a...   \n",
       "15  diff --git a/astroid/brain/brain_builtin_infer...   \n",
       "16  diff --git a/astroid/nodes/as_string.py b/astr...   \n",
       "17  diff --git a/pyvista/core/grid.py b/pyvista/co...   \n",
       "18  diff --git a/pydicom/dataset.py b/pydicom/data...   \n",
       "19  diff --git a/pydicom/dataelem.py b/pydicom/dat...   \n",
       "20  diff --git a/pydicom/config.py b/pydicom/confi...   \n",
       "21  diff --git a/pydicom/valuerep.py b/pydicom/val...   \n",
       "22  diff --git a/pydicom/jsonrep.py b/pydicom/json...   \n",
       "\n",
       "                                           test_patch  \\\n",
       "0   diff --git a/test/cli/commands_test.py b/test/...   \n",
       "1   diff --git a/test/rules/std_L060_test.py b/tes...   \n",
       "2   diff --git a/test/rules/std_L003_L036_L039_com...   \n",
       "3   diff --git a/test/dialects/ansi_test.py b/test...   \n",
       "4   diff --git a/test/core/linter_test.py b/test/c...   \n",
       "5   diff --git a/tests/test_fields.py b/tests/test...   \n",
       "6   diff --git a/tests/test_marshalling.py b/tests...   \n",
       "7   diff --git a/pvlib/tests/test_iam.py b/pvlib/t...   \n",
       "8   diff --git a/pvlib/tests/test_temperature.py b...   \n",
       "9   diff --git a/pvlib/tests/test_tools.py b/pvlib...   \n",
       "10  diff --git a/pvlib/tests/test_pvsystem.py b/pv...   \n",
       "11  diff --git a/pvlib/tests/test_irradiance.py b/...   \n",
       "12  diff --git a/tests/unittest_raw_building.py b/...   \n",
       "13  diff --git a/tests/unittest_modutils.py b/test...   \n",
       "14  diff --git a/tests/unittest_python3.py b/tests...   \n",
       "15  diff --git a/tests/unittest_brain_builtin.py b...   \n",
       "16  diff --git a/tests/unittest_nodes.py b/tests/u...   \n",
       "17  diff --git a/tests/test_grid.py b/tests/test_g...   \n",
       "18  diff --git a/pydicom/tests/test_json.py b/pydi...   \n",
       "19  diff --git a/pydicom/tests/test_valuerep.py b/...   \n",
       "20  diff --git a/pydicom/tests/test_config.py b/py...   \n",
       "21  diff --git a/pydicom/tests/test_valuerep.py b/...   \n",
       "22  diff --git a/pydicom/tests/test_json.py b/pydi...   \n",
       "\n",
       "                                    problem_statement  \\\n",
       "0   TSQL - L031 incorrectly triggers \"Avoid using ...   \n",
       "1   Rule L060 could give a specific error message\\...   \n",
       "2   Extra space when first field moved to new line...   \n",
       "3   \"Dropped elements in sequence matching\" when d...   \n",
       "4   dbt postgres fix command errors with UnicodeEn...   \n",
       "5   3.0: DateTime fields cannot be used as inner f...   \n",
       "6   [version 2.20.0] TypeError: 'NoneType' object ...   \n",
       "7   regression: iam.physical returns nan for aoi >...   \n",
       "8   temperature.fuentes errors when given tz-aware...   \n",
       "9   golden-section search fails when upper and low...   \n",
       "10  PVSystem with single Array generates an error\\...   \n",
       "11  pvlib.irradiance.reindl() model generates NaNs...   \n",
       "12  Deprecation warnings from numpy\\n### Steps to ...   \n",
       "13  astroid 2.9.1 breaks pylint with missing __ini...   \n",
       "14  getitem does not infer the actual unpacked val...   \n",
       "15  \"TypeError: unsupported format string passed t...   \n",
       "16  'AsStringVisitor' object has no attribute 'vis...   \n",
       "17  Rectilinear grid does not allow Sequences as i...   \n",
       "18  Dataset.to_json_dict can still generate except...   \n",
       "19  Error : a bytes-like object is required, not '...   \n",
       "20  pydicom should not define handler, formatter a...   \n",
       "21  Make PersonName3 iterable\\n```python\\r\\nfrom p...   \n",
       "22  from_json does not correctly convert BulkDataU...   \n",
       "\n",
       "                                           hints_text            created_at  \\\n",
       "0   Actually, re-reading the docs I think this is ...  2021-10-13T11:35:29Z   \n",
       "1   @tunetheweb Yeah definitely, should be a prett...  2022-01-22T12:21:52Z   \n",
       "2   Does running `sqlfluff fix` again correct the ...  2021-10-22T18:23:33Z   \n",
       "3   Sounds similar to #1458 where we should handle...  2021-10-06T07:57:35Z   \n",
       "4   I get a dbt-related error -- can you provide y...  2021-10-26T17:28:28Z   \n",
       "5   Thanks for reporting. I don't think I'll have ...  2019-08-21T15:45:13Z   \n",
       "6   Thanks for reporting. I was able to reproduce ...  2019-08-13T04:36:01Z   \n",
       "7                                                      2023-03-24T10:46:42Z   \n",
       "8                                                      2020-10-01T00:53:14Z   \n",
       "9   Confirmed. This appears to be an oversight in ...  2022-12-07T21:12:08Z   \n",
       "10                                                     2023-09-13T17:25:47Z   \n",
       "11  Verified. Looks like an easy fix.\\nVerified. L...  2021-01-29T20:53:24Z   \n",
       "12  This seems very similar to https://github.com/...  2023-01-28T06:14:39Z   \n",
       "13  I can't seem to reproduce this in my `virtuale...  2022-01-08T19:36:45Z   \n",
       "14                                                     2021-10-03T15:58:07Z   \n",
       "15  Hi @crosser, thanks for the report.\\r\\n\\r\\n> I...  2022-11-12T19:21:34Z   \n",
       "16  Thank you for opening the issue.\\nI don't beli...  2021-11-21T16:15:23Z   \n",
       "17                                                     2023-04-21T13:47:31Z   \n",
       "18                                                     2022-09-20T18:52:53Z   \n",
       "19  Also tried following code to get the byte stri...  2021-06-16T09:47:08Z   \n",
       "20  In addition, I don't understand what the purpo...  2019-07-27T00:18:11Z   \n",
       "21  I think it is reasonable to support at least s...  2020-06-26T11:47:17Z   \n",
       "22                                                     2020-11-04T21:13:33Z   \n",
       "\n",
       "   version                                       FAIL_TO_PASS  \\\n",
       "0      0.6  [\"test/cli/commands_test.py::test__cli__comman...   \n",
       "1      0.8  [\"test/rules/std_L060_test.py::test__rules__st...   \n",
       "2      0.6  [\"test/rules/std_L003_L036_L039_combo_test.py:...   \n",
       "3      0.6  [\"test/dialects/ansi_test.py::test__dialect__a...   \n",
       "4      0.6  [\"test/core/linter_test.py::test_safe_create_r...   \n",
       "5      3.0  [\"tests/test_fields.py::TestParentAndName::tes...   \n",
       "6     2.20  [\"tests/test_marshalling.py::TestUnmarshaller:...   \n",
       "7      0.9   [\"pvlib/tests/test_iam.py::test_physical_n1_L0\"]   \n",
       "8      0.7  [\"pvlib/tests/test_temperature.py::test_fuente...   \n",
       "9      0.8  [\"pvlib/tests/test_tools.py::test__golden_sect...   \n",
       "10     0.9  [\"pvlib/tests/test_pvsystem.py::test_PVSystem_...   \n",
       "11     0.8    [\"pvlib/tests/test_irradiance.py::test_reindl\"]   \n",
       "12    2.14  [\"tests/unittest_raw_building.py::test_build_m...   \n",
       "13    2.10  [\"tests/unittest_modutils.py::ModPathFromFileT...   \n",
       "14    2.12  [\"tests/unittest_python3.py::Python3TC::test_u...   \n",
       "15    2.13  [\"tests/unittest_brain_builtin.py::TestStringN...   \n",
       "16     2.9  [\"tests/unittest_nodes.py::AsStringTest::test_...   \n",
       "17    0.39  [\"tests/test_grid.py::test_create_rectilinear_...   \n",
       "18     2.3  [\"pydicom/tests/test_json.py::TestDataSetToJso...   \n",
       "19     2.1  [\"pydicom/tests/test_valuerep.py::test_assigni...   \n",
       "20     1.3  [\"pydicom/tests/test_config.py::TestDebug::tes...   \n",
       "21     2.0  [\"pydicom/tests/test_valuerep.py::TestPersonNa...   \n",
       "22     2.1  [\"pydicom/tests/test_json.py::TestBinary::test...   \n",
       "\n",
       "                                         PASS_TO_PASS  \\\n",
       "0   [\"test/cli/commands_test.py::test__cli__comman...   \n",
       "1                                                  []   \n",
       "2   [\"test/rules/std_L016_L36_combo_test.py::test_...   \n",
       "3   [\"test/dialects/ansi_test.py::test__dialect__a...   \n",
       "4   [\"test/core/linter_test.py::test__linter__path...   \n",
       "5   [\"tests/test_fields.py::test_field_aliases[Int...   \n",
       "6   [\"tests/test_marshalling.py::test_missing_is_f...   \n",
       "7   [\"pvlib/tests/test_iam.py::test_ashrae\", \"pvli...   \n",
       "8   [\"pvlib/tests/test_temperature.py::test_sapm_c...   \n",
       "9   [\"pvlib/tests/test_tools.py::test_build_kwargs...   \n",
       "10  [\"pvlib/tests/test_pvsystem.py::test_PVSystem_...   \n",
       "11  [\"pvlib/tests/test_irradiance.py::test_get_ext...   \n",
       "12  [\"tests/unittest_raw_building.py::RawBuildingT...   \n",
       "13  [\"tests/unittest_modutils.py::ModuleFileTest::...   \n",
       "14  [\"tests/unittest_python3.py::Python3TC::test_a...   \n",
       "15  [\"tests/unittest_brain_builtin.py::BuiltinsTes...   \n",
       "16  [\"tests/unittest_nodes.py::AsStringTest::test_...   \n",
       "17  [\"tests/test_grid.py::test_volume\", \"tests/tes...   \n",
       "18  [\"pydicom/tests/test_json.py::TestPersonName::...   \n",
       "19  [\"pydicom/tests/test_valuerep.py::TestTM::test...   \n",
       "20                                                 []   \n",
       "21  [\"pydicom/tests/test_valuerep.py::TestTM::test...   \n",
       "22  [\"pydicom/tests/test_json.py::TestPersonName::...   \n",
       "\n",
       "                    environment_setup_commit  \n",
       "0   67023b85c41d23d6c6d69812a41b207c4f8a9331  \n",
       "1   a5c4eae4e3e419fe95460c9afd9cf39a35a470c4  \n",
       "2   67023b85c41d23d6c6d69812a41b207c4f8a9331  \n",
       "3   67023b85c41d23d6c6d69812a41b207c4f8a9331  \n",
       "4   67023b85c41d23d6c6d69812a41b207c4f8a9331  \n",
       "5   8b3a32614fd4a74e93e9a63a042e74c1fea34466  \n",
       "6   7015fc4333a2f32cd58c3465296e834acd4496ff  \n",
       "7   6072e0982c3c0236f532ddfa48fbf461180d834e  \n",
       "8   6e5148f59c5050e8f7a0084b7ae39e93b80f72e6  \n",
       "9   ef8ad2fee9840a77d14b0dfd17fc489dd85c9b91  \n",
       "10  6072e0982c3c0236f532ddfa48fbf461180d834e  \n",
       "11  ef8ad2fee9840a77d14b0dfd17fc489dd85c9b91  \n",
       "12  0c9ab0fe56703fa83c73e514a1020d398d23fa7f  \n",
       "13  da745538c7236028a22cdf0405f6829fcf6886bc  \n",
       "14  52f6d2d7722db383af035be929f18af5e9fe8cd5  \n",
       "15  fe058bff95745371df5796286d33677c21137847  \n",
       "16  0d1211558670cfefd95b39984b8d5f7f34837f32  \n",
       "17  4c2d1aed10b1600d520271beba8579c71433e808  \n",
       "18  a8be738418dee0a2b93c241fbd5e0bc82f4b8680  \n",
       "19  506ecea8f378dc687d5c504788fc78810a190b7a  \n",
       "20  7241f5d9db0de589b230bb84212fbb643a7c86c3  \n",
       "21  9d69811e539774f296c2f289839147e741251716  \n",
       "22  506ecea8f378dc687d5c504788fc78810a190b7a  "
      ]
     },
     "execution_count": 44,
     "metadata": {},
     "output_type": "execute_result"
    }
   ],
   "source": [
    "import pandas as pd\n",
    "df = pd.DataFrame(env.data)\n",
    "\n",
    "print (len(df))\n",
    "df\n"
   ]
  },
  {
   "cell_type": "code",
   "execution_count": null,
   "id": "303753a0",
   "metadata": {},
   "outputs": [],
   "source": [
    "from run import should_skip\n",
    "\n",
    "traj_dir = \"trajectories/root/azure-gpt4__SWE-bench_Lite__default__t-0.00__p-0.95__c-2.00__install-1__run_dev_3/\"\n",
    "intance_id = env.data[0][\"instance_id\"]\n",
    "\n",
    "should_skip(args, traj_dir=traj_dir, instance_id=intance_id)\n"
   ]
  },
  {
   "cell_type": "code",
   "execution_count": 42,
   "id": "1a8f5f6e",
   "metadata": {},
   "outputs": [
    {
     "data": {
      "text/markdown": [
       "TSQL - L031 incorrectly triggers \"Avoid using aliases in join condition\" when no join present\n",
       "## Expected Behaviour\r\n",
       "\r\n",
       "Both of these queries should pass, the only difference is the addition of a table alias 'a':\r\n",
       "\r\n",
       "1/ no alias\r\n",
       "\r\n",
       "```\r\n",
       "SELECT [hello]\r\n",
       "FROM\r\n",
       "    mytable\r\n",
       "```\r\n",
       "\r\n",
       "2/ same query with alias\r\n",
       "\r\n",
       "```\r\n",
       "SELECT a.[hello]\r\n",
       "FROM\r\n",
       "    mytable AS a\r\n",
       "```\r\n",
       "\r\n",
       "## Observed Behaviour\r\n",
       "\r\n",
       "1/ passes\r\n",
       "2/ fails with: L031: Avoid using aliases in join condition.\r\n",
       "\r\n",
       "But there is no join condition :-)\r\n",
       "\r\n",
       "## Steps to Reproduce\r\n",
       "\r\n",
       "Lint queries above\r\n",
       "\r\n",
       "## Dialect\r\n",
       "\r\n",
       "TSQL\r\n",
       "\r\n",
       "## Version\r\n",
       "\r\n",
       "sqlfluff 0.6.9\r\n",
       "Python 3.6.9\r\n",
       "\r\n",
       "## Configuration\r\n",
       "\r\n",
       "N/A\n"
      ],
      "text/plain": [
       "<IPython.core.display.Markdown object>"
      ]
     },
     "metadata": {},
     "output_type": "display_data"
    }
   ],
   "source": [
    "display(Markdown(df['problem_statement'][0]))\n"
   ]
  },
  {
   "cell_type": "code",
   "execution_count": 11,
   "id": "079c8a80-7b92-43aa-acee-ed4c37d5b09a",
   "metadata": {},
   "outputs": [
    {
     "data": {
      "text/plain": [
       "[]"
      ]
     },
     "execution_count": 11,
     "metadata": {},
     "output_type": "execute_result"
    }
   ],
   "source": [
    "env.get_available_actions()\n"
   ]
  },
  {
   "cell_type": "code",
   "execution_count": 12,
   "id": "f0b95e61-d42f-4242-8fb6-913ef7956ff9",
   "metadata": {
    "tags": []
   },
   "outputs": [
    {
     "data": {
      "text/plain": [
       "{'WINDOW': '',\n",
       " 'OVERLAP': '',\n",
       " 'CURRENT_LINE': '',\n",
       " 'CURRENT_FILE': '',\n",
       " 'SEARCH_RESULTS': '',\n",
       " 'SEARCH_FILES': '',\n",
       " 'SEARCH_INDEX': ''}"
      ]
     },
     "execution_count": 12,
     "metadata": {},
     "output_type": "execute_result"
    }
   ],
   "source": [
    "agent.get_environment_vars(env)\n"
   ]
  },
  {
   "cell_type": "code",
   "execution_count": 24,
   "id": "504716c8-45c3-4a0a-a584-b6f04f7a9b01",
   "metadata": {
    "tags": []
   },
   "outputs": [
    {
     "data": {
      "text/plain": [
       "{'open': re.compile(r'^\\s*(open)\\s*(.*?)$', re.MULTILINE|re.UNICODE),\n",
       " 'goto': re.compile(r'^\\s*(goto)\\s*(.*?)$', re.MULTILINE|re.UNICODE),\n",
       " 'scroll_down': re.compile(r'^\\s*(scroll_down)\\s*(.*?)$',\n",
       "            re.MULTILINE|re.UNICODE),\n",
       " 'scroll_up': re.compile(r'^\\s*(scroll_up)\\s*(.*?)$', re.MULTILINE|re.UNICODE),\n",
       " 'create': re.compile(r'^\\s*(create)\\s*(.*?)$', re.MULTILINE|re.UNICODE),\n",
       " 'submit': re.compile(r'^\\s*(submit)\\s*(.*?)^(None)\\s*$',\n",
       "            re.MULTILINE|re.DOTALL|re.UNICODE),\n",
       " 'search_dir': re.compile(r'^\\s*(search_dir)\\s*(.*?)$',\n",
       "            re.MULTILINE|re.UNICODE),\n",
       " 'search_file': re.compile(r'^\\s*(search_file)\\s*(.*?)$',\n",
       "            re.MULTILINE|re.UNICODE),\n",
       " 'find_file': re.compile(r'^\\s*(find_file)\\s*(.*?)$', re.MULTILINE|re.UNICODE),\n",
       " 'edit': re.compile(r'^\\s*(edit)\\s*(.*?)^(end_of_edit)\\s*$',\n",
       "            re.MULTILINE|re.DOTALL|re.UNICODE)}"
      ]
     },
     "execution_count": 24,
     "metadata": {},
     "output_type": "execute_result"
    }
   ],
   "source": [
    "agent.command_patterns\n"
   ]
  },
  {
   "cell_type": "code",
   "execution_count": 30,
   "id": "a635284f-e4fd-49b9-bd34-32ef25e712d3",
   "metadata": {
    "tags": []
   },
   "outputs": [
    {
     "data": {
      "text/plain": [
       "dict_keys(['system_template', 'instance_template', 'next_step_template', 'next_step_no_output_template', 'strategy_template', 'demonstration_template', 'demonstrations', 'put_demos_in_history', 'format_error_template', 'command_files', 'env_variables', 'util_functions', 'submit_command', 'parse_function', 'parse_command', 'history_processor', 'history_processor_args', 'command_docs', 'blocklist_error_template', 'blocklist', 'blocklist_standalone', 'state_command', '_commands', '_subroutines', 'subroutine_types'])"
      ]
     },
     "execution_count": 30,
     "metadata": {},
     "output_type": "execute_result"
    }
   ],
   "source": [
    "agent_config = agent.config.to_dict()\n",
    "agent_config.keys()\n"
   ]
  },
  {
   "cell_type": "code",
   "execution_count": 45,
   "id": "669de005-93e2-484d-a2cc-90c0f782dd7f",
   "metadata": {
    "tags": []
   },
   "outputs": [
    {
     "data": {
      "text/markdown": [
       "SETTING: You are an autonomous programmer, and you're working directly in the command line with a special interface.\n",
       "\n",
       "The special interface consists of a file editor that shows you {WINDOW} lines of a file at a time.\n",
       "In addition to typical bash commands, you can also use the following commands to help you navigate and edit files.\n",
       "\n",
       "COMMANDS:\n",
       "{command_docs}\n",
       "\n",
       "Please note that THE EDIT COMMAND REQUIRES PROPER INDENTATION. \n",
       "If you'd like to add the line '        print(x)' you must fully write that out, with all those spaces before the code! Indentation is important and code that is not indented correctly will fail and require fixing before it can be run.\n",
       "\n",
       "RESPONSE FORMAT:\n",
       "Your shell prompt is formatted as follows:\n",
       "(Open file: <path>) <cwd> $\n",
       "\n",
       "You need to format your output using two fields; discussion and command.\n",
       "Your output should always include _one_ discussion and _one_ command field EXACTLY as in the following example:\n",
       "DISCUSSION\n",
       "First I'll start by using ls to see what files are in the current directory. Then maybe we can look at some relevant files to see what they look like.\n",
       "```\n",
       "ls -a\n",
       "```\n",
       "\n",
       "You should only include a *SINGLE* command in the command section and then wait for a response from the shell before continuing with more discussion and commands. Everything you include in the DISCUSSION section will be saved for future reference.\n",
       "If you'd like to issue two commands at once, PLEASE DO NOT DO THAT! Please instead first submit just the first command, and then after receiving a response you'll be able to issue the second command. \n",
       "You're free to use any other bash commands you want (e.g. find, grep, cat, ls, cd) in addition to the special commands listed above.\n",
       "However, the environment does NOT support interactive session commands (e.g. python, vim), so please do not invoke them."
      ],
      "text/plain": [
       "<IPython.core.display.Markdown object>"
      ]
     },
     "metadata": {},
     "output_type": "display_data"
    }
   ],
   "source": [
    "display(Markdown(agent_config['system_template']))\n"
   ]
  },
  {
   "cell_type": "code",
   "execution_count": 46,
   "id": "375d5120-355d-4a3f-90ea-13b1c8994454",
   "metadata": {
    "tags": []
   },
   "outputs": [
    {
     "data": {
      "text/markdown": [
       "open:\n",
       "  docstring: opens the file at the given path in the editor. If line_number is provided, the window will be move to include that line\n",
       "  signature: open <path> [<line_number>]\n",
       "  arguments:\n",
       "    - path (string) [required]: the path to the file to open\n",
       "    - line_number (integer) [optional]: the line number to move the window to (if not provided, the window will start at the top of the file)\n",
       "\n",
       "goto:\n",
       "  docstring: moves the window to show <line_number>\n",
       "  signature: goto <line_number>\n",
       "  arguments:\n",
       "    - line_number (integer) [required]: the line number to move the window to\n",
       "\n",
       "scroll_down:\n",
       "  docstring: moves the window down {WINDOW} lines\n",
       "  signature: scroll_down\n",
       "\n",
       "scroll_up:\n",
       "  docstring: moves the window down {WINDOW} lines\n",
       "  signature: scroll_down\n",
       "\n",
       "create:\n",
       "  docstring: creates and opens a new file with the given name\n",
       "  signature: create <filename>\n",
       "  arguments:\n",
       "    - filename (string) [required]: the name of the file to create\n",
       "\n",
       "submit:\n",
       "  docstring: submits your current code and terminates the session\n",
       "  signature: submit\n",
       "\n",
       "search_dir:\n",
       "  docstring: searches for search_term in all files in dir. If dir is not provided, searches in the current directory\n",
       "  signature: search_dir <search_term> [<dir>]\n",
       "  arguments:\n",
       "    - search_term (string) [required]: the term to search for\n",
       "    - dir (string) [optional]: the directory to search in (if not provided, searches in the current directory)\n",
       "\n",
       "search_file:\n",
       "  docstring: searches for search_term in file. If file is not provided, searches in the current open file\n",
       "  signature: search_file <search_term> [<file>]\n",
       "  arguments:\n",
       "    - search_term (string) [required]: the term to search for\n",
       "    - file (string) [optional]: the file to search in (if not provided, searches in the current open file)\n",
       "\n",
       "find_file:\n",
       "  docstring: finds all files with the given name in dir. If dir is not provided, searches in the current directory\n",
       "  signature: find_file <file_name> [<dir>]\n",
       "  arguments:\n",
       "    - file_name (string) [required]: the name of the file to search for\n",
       "    - dir (string) [optional]: the directory to search in (if not provided, searches in the current directory)\n",
       "\n",
       "edit:\n",
       "  docstring: replaces lines <start_line> through <end_line> (inclusive) with the given text in the open file. The replacement text is terminated by a line with only end_of_edit on it. All of the <replacement text> will be entered, so make sure your indentation is formatted properly. Python files will be checked for syntax errors after the edit. If the system detects a syntax error, the edit will not be executed. Simply try to edit the file again, but make sure to read the error message and modify the edit command you issue accordingly. Issuing the same command a second time will just lead to the same error message again.\n",
       "  signature: edit <start_line>:<end_line>\n",
       "<replacement_text>\n",
       "end_of_edit\n",
       "  arguments:\n",
       "    - start_line (integer) [required]: the line number to start the edit at\n",
       "    - end_line (integer) [required]: the line number to end the edit at (inclusive)\n",
       "    - replacement_text (string) [required]: the text to replace the current selection with\n",
       "\n"
      ],
      "text/plain": [
       "<IPython.core.display.Markdown object>"
      ]
     },
     "metadata": {},
     "output_type": "display_data"
    }
   ],
   "source": [
    "display(Markdown(agent_config['command_docs']))\n"
   ]
  },
  {
   "cell_type": "code",
   "execution_count": 47,
   "id": "1e973733-299a-4414-9eec-c4ee0f7b4d33",
   "metadata": {
    "tags": []
   },
   "outputs": [
    {
     "data": {
      "text/markdown": [
       "We're currently solving the following issue within our repository. Here's the issue text:\n",
       "ISSUE:\n",
       "{issue}\n",
       "\n",
       "INSTRUCTIONS:\n",
       "Now, you're going to solve this issue on your own. Your terminal session has started and you're in the repository's root directory. You can use any bash commands or the special interface to help you. Edit all the files you need to and run any checks or tests that you want. \n",
       "Remember, YOU CAN ONLY ENTER ONE COMMAND AT A TIME. You should always wait for feedback after every command. \n",
       "When you're satisfied with all of the changes you've made, you can submit your changes to the code base by simply running the submit command.\n",
       "Note however that you cannot use any interactive session commands (e.g. python, vim) in this environment, but you can write scripts and run them. E.g. you can write a python script and then run it with `python <script_name>.py`.\n",
       "\n",
       "NOTE ABOUT THE EDIT COMMAND: Indentation really matters! When editing a file, make sure to insert appropriate indentation before each line! \n",
       "\n",
       "IMPORTANT TIPS:\n",
       "1. Always start by trying to replicate the bug that the issues discusses. \n",
       "   If the issue includes code for reproducing the bug, we recommend that you re-implement that in your environment, and run it to make sure you can reproduce the bug.\n",
       "   Then start trying to fix it.\n",
       "   When you think you've fixed the bug, re-run the bug reproduction script to make sure that the bug has indeed been fixed.\n",
       "   \n",
       "   If the bug reproduction script does not print anything when it succesfully runs, we recommend adding a print(\"Script completed successfully, no errors.\") command at the end of the file,\n",
       "   so that you can be sure that the script indeed ran fine all the way through. \n",
       "\n",
       "2. If you run a command and it doesn't work, try running a different command. A command that did not work once will not work the second time unless you modify it!\n",
       "\n",
       "3. If you open a file and need to get to an area around a specific line that is not in the first 100 lines, say line 583, don't just use the scroll_down command multiple times. Instead, use the goto 583 command. It's much quicker. \n",
       "   \n",
       "4. If the bug reproduction script requires inputting/reading a specific file, such as buggy-input.png, and you'd like to understand how to input that file, conduct a search in the existing repo code, to see whether someone else has already done that. Do this by running the command: find_file \"buggy-input.png\" If that doensn't work, use the linux 'find' command. \n",
       "\n",
       "5. Always make sure to look at the currently open file and the current working directory (which appears right after the currently open file). The currently open file might be in a different directory than the working directory! Note that some commands, such as 'create', open files, so they might change the current  open file.\n",
       "\n",
       "6. When editing files, it is easy to accidentally specify a wrong line number or to write code with incorrect indentation. Always check the code after you issue an edit to make sure that it reflects what you wanted to accomplish. If it didn't, issue another command to fix it.\n",
       "   \n",
       "\n",
       "(Open file: {open_file})\n",
       "(Current directory: {working_dir})\n",
       "bash-$"
      ],
      "text/plain": [
       "<IPython.core.display.Markdown object>"
      ]
     },
     "metadata": {},
     "output_type": "display_data"
    }
   ],
   "source": [
    "display(Markdown(agent_config['instance_template']))\n"
   ]
  },
  {
   "cell_type": "code",
   "execution_count": 48,
   "id": "61f7bf4c-ec82-4e79-ba9b-f20588d50fc5",
   "metadata": {
    "tags": []
   },
   "outputs": [
    {
     "data": {
      "text/plain": [
       "'{observation}\\n(Open file: {open_file})\\n(Current directory: {working_dir})\\nbash-$'"
      ]
     },
     "execution_count": 48,
     "metadata": {},
     "output_type": "execute_result"
    }
   ],
   "source": [
    "agent_config['next_step_template']\n"
   ]
  },
  {
   "cell_type": "code",
   "execution_count": 49,
   "id": "4d7b906f-2244-4219-9052-39883cc270e1",
   "metadata": {
    "tags": []
   },
   "outputs": [
    {
     "data": {
      "text/plain": [
       "'Your command ran successfully and did not produce any output.\\n(Open file: {open_file})\\n(Current directory: {working_dir})\\nbash-$'"
      ]
     },
     "execution_count": 49,
     "metadata": {},
     "output_type": "execute_result"
    }
   ],
   "source": [
    "agent_config['next_step_no_output_template'] \n"
   ]
  },
  {
   "cell_type": "code",
   "execution_count": 50,
   "id": "fde36ccb-1607-4230-b312-7a58cfb733ec",
   "metadata": {
    "tags": []
   },
   "outputs": [
    {
     "data": {
      "text/plain": [
       "'Here is a demonstration of how to correctly accomplish this task.\\nIt is included to show you how to correctly use the interface.\\nYou do not need to follow exactly what is done in the demonstration.\\n--- DEMONSTRATION ---\\n{demonstration}\\n--- END OF DEMONSTRATION ---\\n'"
      ]
     },
     "execution_count": 50,
     "metadata": {},
     "output_type": "execute_result"
    }
   ],
   "source": [
    "agent_config['demonstration_template'] \n"
   ]
  },
  {
   "cell_type": "code",
   "execution_count": 51,
   "id": "8a73ae27-196b-4301-bd75-f4faeb6eab78",
   "metadata": {
    "tags": []
   },
   "outputs": [
    {
     "data": {
      "text/plain": [
       "{}"
      ]
     },
     "execution_count": 51,
     "metadata": {},
     "output_type": "execute_result"
    }
   ],
   "source": [
    "agent_config['_subroutines'] \n"
   ]
  },
  {
   "cell_type": "code",
   "execution_count": null,
   "id": "d127547a-46b6-4b30-bd7d-659125838d0c",
   "metadata": {},
   "outputs": [],
   "source": []
  }
 ],
 "metadata": {
  "kernelspec": {
   "display_name": "swe-agent",
   "language": "python",
   "name": "swe-agent"
  },
  "language_info": {
   "codemirror_mode": {
    "name": "ipython",
    "version": 3
   },
   "file_extension": ".py",
   "mimetype": "text/x-python",
   "name": "python",
   "nbconvert_exporter": "python",
   "pygments_lexer": "ipython3",
   "version": "3.9.19"
  }
 },
 "nbformat": 4,
 "nbformat_minor": 5
}
